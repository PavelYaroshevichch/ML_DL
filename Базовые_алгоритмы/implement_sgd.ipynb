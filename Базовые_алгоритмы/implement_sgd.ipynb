{
 "cells": [
  {
   "cell_type": "markdown",
   "metadata": {},
   "source": [
    "\n",
    "<img src=\"../../img/ods_stickers.jpg\">\n",
    "\n",
    "## <center> [mlcourse.ai](https://mlcourse.ai) – открытый курс OpenDataScience по машинному обучению \n",
    "    \n",
    "Автор материала: Юрий Кашницкий (@yorko в Slack ODS). Материал распространяется на условиях лицензии [Creative Commons CC BY-NC-SA 4.0](https://creativecommons.org/licenses/by-nc-sa/4.0/). Можно использовать в любых целях (редактировать, поправлять и брать за основу), кроме коммерческих, но с обязательным упоминанием автора материала."
   ]
  },
  {
   "cell_type": "markdown",
   "metadata": {},
   "source": [
    "# <center> Домашнее задание № 8 (демо)\n",
    "## <center> Реализация алгоритмов онлайн-обучения"
   ]
  },
  {
   "cell_type": "markdown",
   "metadata": {},
   "source": [
    "Вам предлагается реализовать два алгоритма – регрессор и классификатор, обучаемые стохастическим градиентным спуском (Stochastic Gradient Descent, SGD). [Веб-форма](https://docs.google.com/forms/d/1xlbc0CaUaNpVs-fhxkHUe61AtsvS_aDqQ0CLFxs6UDA) для ответов."
   ]
  },
  {
   "cell_type": "markdown",
   "metadata": {},
   "source": [
    "## План домашнего задания\n",
    "    1. Линейная регрессия и SGD\n",
    "    2. Логистическая регрессия и SGD\n",
    "    3. Логистическая регрессия и SGDClassifier в задаче классификации отзывов к фильмам"
   ]
  },
  {
   "cell_type": "markdown",
   "metadata": {},
   "source": [
    "В [статье](https://habrahabr.ru/company/ods/blog/326418/) было описано, как таким образом обучать регрессор, т.е. минимизировать квадратичную функцию потерь. Реализуем этот алгоритм."
   ]
  },
  {
   "cell_type": "markdown",
   "metadata": {},
   "source": [
    "##  1. Линейная регрессия и SGD"
   ]
  },
  {
   "cell_type": "code",
   "execution_count": 3,
   "metadata": {},
   "outputs": [],
   "source": [
    "import numpy as np\n",
    "import pandas as pd\n",
    "from sklearn.base import BaseEstimator\n",
    "from sklearn.metrics import log_loss, mean_squared_error, roc_auc_score\n",
    "from sklearn.model_selection import train_test_split\n",
    "from tqdm import tqdm\n",
    "\n",
    "%matplotlib inline\n",
    "import seaborn as sns\n",
    "from matplotlib import pyplot as plt\n",
    "from sklearn.preprocessing import StandardScaler"
   ]
  },
  {
   "cell_type": "markdown",
   "metadata": {},
   "source": [
    "Реализуйте класс `SGDRegressor`. Спецификация:\n",
    "- класс наследуется от `sklearn.base.BaseEstimator`\n",
    "- конструктор принимает параметры `eta` – шаг градиентного спуска (по умолчанию $10^{-3}$) и `n_iter` – число проходов по выборке (по умолчанию 10)\n",
    "- также в конструкторе должны создаваться списки `mse_` и `weights_` для отслеживания значений среднеквадратичной ошибки и вектора весов по итерациям градиентного спуска\n",
    "- Класс имеет методы `fit` и `predict`\n",
    "- Метод `fit` принимает матрицу `X` и вектор `y` (объекты `numpy.array`), добавляет к матрице `X` слева столбец из единиц, инициализирует вектор весов `w` **нулями** и в цикле с числом итераций `n_iter` обновляет веса (см. [статью](https://habrahabr.ru/company/ods/blog/326418/)), а также записывает получившиеся на данной итерации значения среднеквадратичной ошибки (именно MSE, SE слишком большими будут) и вектор весов `w` в предназначенные для этого списки. \n",
    "- В конце метод `fit` создает переменную `w_`, в которой хранится тот вектор весов, при котором ошибка минимальна\n",
    "- Метод `fit` должен возвращать текущий экземпляр класса `SGDRegressor`, т.е. `self`\n",
    "- Метод `predict` принимает матрицу `X`, добавляет к ней слева столбец из единиц и возвращает вектор прогнозов модели, используя созданный методом `fit` вектор весов `w_`."
   ]
  },
  {
   "cell_type": "code",
   "execution_count": 4,
   "metadata": {},
   "outputs": [],
   "source": [
    "class SGDRegressor(BaseEstimator):\n",
    "    \n",
    "    def __init__(self, eta=10 ** (-3), n_iter=10):\n",
    "        self.eta = eta\n",
    "        self.n_iter = n_iter\n",
    "        self.mse_ = []\n",
    "        self.weights_ = []\n",
    "        \n",
    "#         n,m = X.shape \n",
    "#         X0 = np.ones((n,1))\n",
    "#         X = np.hstack((X0,X))  \n",
    "\n",
    "    def fit(self, X, y):\n",
    "\n",
    "        X = np.hstack([np.ones([X.shape[0], 1]), X])\n",
    "        w = np.zeros(X.shape[1])\n",
    "        \n",
    "        for k in range(self.n_iter):\n",
    "        \n",
    "            for i in range(X.shape[0]):                \n",
    "                    w[0] += 2. * self.eta * (y[i] - w.dot(X[i, :]))\n",
    "                    for j in range(1, X.shape[1]):\n",
    "                        w[j] += 2. * self.eta * (y[i] - w.dot(X[i, :])) * X[i, j]\n",
    "                    self.weights_.append(w.copy())\n",
    "                    self.mse_.append(mean_squared_error(y, X.dot(w)))               \n",
    "        self.w_ = self.weights_[np.argmin(self.mse_)]\n",
    "                \n",
    "        return self\n",
    "                  \n",
    "    def predict(self, X):\n",
    "        X = np.hstack([np.ones([X.shape[0], 1]), X])\n",
    "        \n",
    "        return X.dot(self.w_)\n",
    "    \"\"\" ВАШ КОД ЗДЕСЬ \"\"\""
   ]
  },
  {
   "cell_type": "markdown",
   "metadata": {},
   "source": [
    "Проверим работу алгоритма на данных по росту и весу. Будем прогнозировать рост (в дюймах) по весу (в фунтах)."
   ]
  },
  {
   "cell_type": "code",
   "execution_count": 5,
   "metadata": {},
   "outputs": [],
   "source": [
    "data_demo = pd.read_csv(\"../../data/weights_heights.csv\")"
   ]
  },
  {
   "cell_type": "code",
   "execution_count": 6,
   "metadata": {},
   "outputs": [
    {
     "data": {
      "image/png": "[encoded data removed]",
      "text/plain": [
       "<Figure size 432x288 with 1 Axes>"
      ]
     },
     "metadata": {
      "needs_background": "light"
     },
     "output_type": "display_data"
    }
   ],
   "source": [
    "plt.scatter(data_demo[\"Weight\"], data_demo[\"Height\"])\n",
    "plt.xlabel(\"Вес (фунты)\")\n",
    "plt.ylabel(\"Рост (дюймы)\");"
   ]
  },
  {
   "cell_type": "code",
   "execution_count": 7,
   "metadata": {},
   "outputs": [],
   "source": [
    "X, y = data_demo[\"Weight\"].values, data_demo[\"Height\"].values"
   ]
  },
  {
   "cell_type": "markdown",
   "metadata": {},
   "source": [
    "Выделим 70% под обучение, 30% – под проверку и масштабируем выборку."
   ]
  },
  {
   "cell_type": "code",
   "execution_count": 8,
   "metadata": {},
   "outputs": [],
   "source": [
    "X_train, X_valid, y_train, y_valid = train_test_split(\n",
    "    X, y, test_size=0.3, random_state=17\n",
    ")"
   ]
  },
  {
   "cell_type": "code",
   "execution_count": 9,
   "metadata": {},
   "outputs": [],
   "source": [
    "scaler = StandardScaler()\n",
    "X_train_scaled = scaler.fit_transform(X_train.reshape([X_train.shape[0], 1]))\n",
    "X_valid_scaled = scaler.transform(X_valid.reshape([X_valid.shape[0], 1]))"
   ]
  },
  {
   "cell_type": "markdown",
   "metadata": {},
   "source": [
    "Обучите созданный вами `SGDRegressor` на выборке `(X_train_scaled, y_train)`. Параметры оставьте по умолчанию."
   ]
  },
  {
   "cell_type": "code",
   "execution_count": 10,
   "metadata": {},
   "outputs": [],
   "source": [
    "sgd = SGDRegressor()"
   ]
  },
  {
   "cell_type": "code",
   "execution_count": 11,
   "metadata": {},
   "outputs": [
    {
     "data": {
      "text/html": [
       "<style>#sk-container-id-1 {color: black;background-color: white;}#sk-container-id-1 pre{padding: 0;}#sk-container-id-1 div.sk-toggleable {background-color: white;}#sk-container-id-1 label.sk-toggleable__label {cursor: pointer;display: block;width: 100%;margin-bottom: 0;padding: 0.3em;box-sizing: border-box;text-align: center;}#sk-container-id-1 label.sk-toggleable__label-arrow:before {content: \"▸\";float: left;margin-right: 0.25em;color: #696969;}#sk-container-id-1 label.sk-toggleable__label-arrow:hover:before {color: black;}#sk-container-id-1 div.sk-estimator:hover label.sk-toggleable__label-arrow:before {color: black;}#sk-container-id-1 div.sk-toggleable__content {max-height: 0;max-width: 0;overflow: hidden;text-align: left;background-color: #f0f8ff;}#sk-container-id-1 div.sk-toggleable__content pre {margin: 0.2em;color: black;border-radius: 0.25em;background-color: #f0f8ff;}#sk-container-id-1 input.sk-toggleable__control:checked~div.sk-toggleable__content {max-height: 200px;max-width: 100%;overflow: auto;}#sk-container-id-1 input.sk-toggleable__control:checked~label.sk-toggleable__label-arrow:before {content: \"▾\";}#sk-container-id-1 div.sk-estimator input.sk-toggleable__control:checked~label.sk-toggleable__label {background-color: #d4ebff;}#sk-container-id-1 div.sk-label input.sk-toggleable__control:checked~label.sk-toggleable__label {background-color: #d4ebff;}#sk-container-id-1 input.sk-hidden--visually {border: 0;clip: rect(1px 1px 1px 1px);clip: rect(1px, 1px, 1px, 1px);height: 1px;margin: -1px;overflow: hidden;padding: 0;position: absolute;width: 1px;}#sk-container-id-1 div.sk-estimator {font-family: monospace;background-color: #f0f8ff;border: 1px dotted black;border-radius: 0.25em;box-sizing: border-box;margin-bottom: 0.5em;}#sk-container-id-1 div.sk-estimator:hover {background-color: #d4ebff;}#sk-container-id-1 div.sk-parallel-item::after {content: \"\";width: 100%;border-bottom: 1px solid gray;flex-grow: 1;}#sk-container-id-1 div.sk-label:hover label.sk-toggleable__label {background-color: #d4ebff;}#sk-container-id-1 div.sk-serial::before {content: \"\";position: absolute;border-left: 1px solid gray;box-sizing: border-box;top: 0;bottom: 0;left: 50%;z-index: 0;}#sk-container-id-1 div.sk-serial {display: flex;flex-direction: column;align-items: center;background-color: white;padding-right: 0.2em;padding-left: 0.2em;position: relative;}#sk-container-id-1 div.sk-item {position: relative;z-index: 1;}#sk-container-id-1 div.sk-parallel {display: flex;align-items: stretch;justify-content: center;background-color: white;position: relative;}#sk-container-id-1 div.sk-item::before, #sk-container-id-1 div.sk-parallel-item::before {content: \"\";position: absolute;border-left: 1px solid gray;box-sizing: border-box;top: 0;bottom: 0;left: 50%;z-index: -1;}#sk-container-id-1 div.sk-parallel-item {display: flex;flex-direction: column;z-index: 1;position: relative;background-color: white;}#sk-container-id-1 div.sk-parallel-item:first-child::after {align-self: flex-end;width: 50%;}#sk-container-id-1 div.sk-parallel-item:last-child::after {align-self: flex-start;width: 50%;}#sk-container-id-1 div.sk-parallel-item:only-child::after {width: 0;}#sk-container-id-1 div.sk-dashed-wrapped {border: 1px dashed gray;margin: 0 0.4em 0.5em 0.4em;box-sizing: border-box;padding-bottom: 0.4em;background-color: white;}#sk-container-id-1 div.sk-label label {font-family: monospace;font-weight: bold;display: inline-block;line-height: 1.2em;}#sk-container-id-1 div.sk-label-container {text-align: center;}#sk-container-id-1 div.sk-container {/* jupyter's `normalize.less` sets `[hidden] { display: none; }` but bootstrap.min.css set `[hidden] { display: none !important; }` so we also need the `!important` here to be able to override the default hidden behavior on the sphinx rendered scikit-learn.org. See: https://github.com/scikit-learn/scikit-learn/issues/21755 */display: inline-block !important;position: relative;}#sk-container-id-1 div.sk-text-repr-fallback {display: none;}</style><div id=\"sk-container-id-1\" class=\"sk-top-container\"><div class=\"sk-text-repr-fallback\"><pre>SGDRegressor()</pre><b>In a Jupyter environment, please rerun this cell to show the HTML representation or trust the notebook. <br />On GitHub, the HTML representation is unable to render, please try loading this page with nbviewer.org.</b></div><div class=\"sk-container\" hidden><div class=\"sk-item\"><div class=\"sk-estimator sk-toggleable\"><input class=\"sk-toggleable__control sk-hidden--visually\" id=\"sk-estimator-id-1\" type=\"checkbox\" checked><label for=\"sk-estimator-id-1\" class=\"sk-toggleable__label sk-toggleable__label-arrow\">SGDRegressor</label><div class=\"sk-toggleable__content\"><pre>SGDRegressor()</pre></div></div></div></div></div>"
      ],
      "text/plain": [
       "SGDRegressor()"
      ]
     },
     "execution_count": 11,
     "metadata": {},
     "output_type": "execute_result"
    }
   ],
   "source": [
    "sgd.fit(X_train_scaled, y_train)"
   ]
  },
  {
   "cell_type": "markdown",
   "metadata": {},
   "source": [
    "Изобразите на графике процесс обучения – как среднеквадратичная ошибка зависит от номера итерации стохастического градиентного спуска."
   ]
  },
  {
   "cell_type": "code",
   "execution_count": 12,
   "metadata": {},
   "outputs": [
    {
     "data": {
      "image/png": "[encoded data removed]",
      "text/plain": [
       "<Figure size 432x288 with 1 Axes>"
      ]
     },
     "metadata": {
      "needs_background": "light"
     },
     "output_type": "display_data"
    }
   ],
   "source": [
    "plt.plot(range(len(sgd.mse_)), sgd.mse_);"
   ]
  },
  {
   "cell_type": "markdown",
   "metadata": {},
   "source": [
    "Выведите наименьшее значение среднеквадратичной ошибки и лучший вектор весов модели."
   ]
  },
  {
   "cell_type": "code",
   "execution_count": 13,
   "metadata": {},
   "outputs": [
    {
     "data": {
      "text/plain": [
       "(2.715134470158027, array([67.98947873,  0.94482721]))"
      ]
     },
     "execution_count": 13,
     "metadata": {},
     "output_type": "execute_result"
    }
   ],
   "source": [
    "min(sgd.mse_), sgd.w_"
   ]
  },
  {
   "cell_type": "markdown",
   "metadata": {},
   "source": [
    "Постройте график того, как менялись значения весов модели ($w_0$ и $w_1$) по мере обучения."
   ]
  },
  {
   "cell_type": "code",
   "execution_count": 16,
   "metadata": {},
   "outputs": [
    {
     "data": {
      "image/png": "[encoded data removed]",
      "text/plain": [
       "<Figure size 432x288 with 1 Axes>"
      ]
     },
     "metadata": {
      "needs_background": "light"
     },
     "output_type": "display_data"
    }
   ],
   "source": [
    "plt.plot([w[0] for w in sgd.weights_], \n",
    "         [w[1] for w in sgd.weights_]);"
   ]
  },
  {
   "cell_type": "markdown",
   "metadata": {},
   "source": [
    "Сделайте прогноз для отложенной выборки `(X_valid_scaled, y_valid)` и посмотрите на MSE."
   ]
  },
  {
   "cell_type": "code",
   "execution_count": 17,
   "metadata": {},
   "outputs": [
    {
     "data": {
      "text/plain": [
       "2.6708523420894084"
      ]
     },
     "execution_count": 17,
     "metadata": {},
     "output_type": "execute_result"
    }
   ],
   "source": [
    "y_pred = sgd.predict(X_valid_scaled)\n",
    "mean_squared_error(y_valid, y_pred)"
   ]
  },
  {
   "cell_type": "markdown",
   "metadata": {},
   "source": [
    "Теперь следайте то же самое, но с `LinearRegression` из `sklearn.linear_model`. Посчитайте MSE для отложенной выборки."
   ]
  },
  {
   "cell_type": "code",
   "execution_count": 18,
   "metadata": {},
   "outputs": [
    {
     "data": {
      "text/plain": [
       "2.670830767667635"
      ]
     },
     "execution_count": 18,
     "metadata": {},
     "output_type": "execute_result"
    }
   ],
   "source": [
    "from sklearn.linear_model import LinearRegression\n",
    "lr = LinearRegression()\n",
    "lr.fit(X_train_scaled, y_train)\n",
    "y_pred = lr.predict(X_valid_scaled)\n",
    "mean_squared_error(y_valid, y_pred)"
   ]
  },
  {
   "cell_type": "markdown",
   "metadata": {
    "collapsed": true
   },
   "source": [
    "<font color='red'>Вопрос 1.</font> В каком знаке после разделителя отличаются MSE линейной регрессии и `SGDRegressor` для отложенной выборки?\n",
    " - 2\n",
    " - 3\n",
    " - 4\n",
    " - 5"
   ]
  },
  {
   "cell_type": "markdown",
   "metadata": {},
   "source": [
    "## 2. Логистическая регрессия и SGD\n",
    "Теперь давайте разберемся, как при таком же стохастическом подходе обучать логистическую регрессию."
   ]
  },
  {
   "cell_type": "markdown",
   "metadata": {},
   "source": [
    "Задача классификации, $X$ – обучающая выборка размеров $\\ell \\times (d+1)$ (первый столбец – вектор из единиц), $y$ – вектор ответов, $y_i \\in \\{-1, 1\\}$.\n",
    "В [4 статье](https://habrahabr.ru/company/ods/blog/323890/) серии мы подробно разбирали, как логистическая регрессия с $L_2$-регуляризацией сводится к задаче минимизации:\n",
    "$$ C\\sum_{i=1}^\\ell \\log{(1 + e^{-y_iw^Tx_i})} + \\frac{1}{2}\\sum_{j=1}^d w_j^2 \\rightarrow min_w$$"
   ]
  },
  {
   "cell_type": "markdown",
   "metadata": {},
   "source": [
    "<font color='red'>Вопрос 2.</font> По какой формуле будут пересчитываться веса логистической регрессии при обучении стохастическим градиентным спуском?\n",
    " - $w_j^{(t+1)} = w_j^{(t)} + \\eta (Cy_i x_{ij} \\sigma(y_iw^Tx_i) +  \\delta_{j\\neq0} w_j)$\n",
    " - $w_j^{(t+1)} = w_j^{(t)} - \\eta (Cy_i x_{ij} \\sigma(-y_iw^Tx_i) +  \\delta_{j\\neq0}w_j)$\n",
    " - $w_j^{(t+1)} = w_j^{(t)} - \\eta (Cy_i x_{ij} \\sigma(-y_iw^Tx_i) -  \\delta_{j\\neq0}w_j )$\n",
    " - $w_j^{(t+1)} = w_j^{(t)} + \\eta (Cy_i x_{ij} \\sigma(-y_iw^Tx_i) -  \\delta_{j\\neq0}w_j)$\n",
    " \n",
    "Здесь \n",
    "- $i \\in {0,\\ldots, \\ell-1}, j \\in {0,\\ldots, d}$\n",
    "- C – коэффициент регуляризации\n",
    "- $x_{ij} $ – элемент матрицы X в строке $i$ и столбце $j$ (нумерация с 0), \n",
    "- $x_i$ – $i$-ая строка матрицы $X$ (нумерация с 0), \n",
    "- $w_j^{(t)}$ – значение $j$-ого элемента вектора весов $w$ на шаге $t$ стохастического градиентного спуска\n",
    "- $\\eta$ – небольшая константа, шаг градиентного спуска\n",
    "- $\\delta_{j\\neq0}$ – символ Кронекера, то есть 1, когда $j\\neq0$ и $0$ – в противном случае"
   ]
  },
  {
   "cell_type": "markdown",
   "metadata": {},
   "source": [
    "Реализуйте класс `SGDClassifier`. Спецификация:\n",
    "- класс наследуется от `sklearn.base.BaseEstimator`\n",
    "- конструктор принимает параметры `eta` – шаг градиентного спуска (по умолчанию $10^{-3}$), `n_iter` – число проходов по выборке (по умолчанию 10) и C – коэффициент регуляризации\n",
    "- также в конструкторе должны создаваться списки `loss_` и `weights_` для отслеживания значений логистических потерь и вектора весов по итерациям градиентного спуска\n",
    "- Класс имеет методы `fit`, `predict` и `predict_proba`\n",
    "- Метод `fit` принимает матрицу `X` и вектор `y` (объекты `numpy.array`, рассматриваем только случай бинарной классификации, и значения в векторе `y` могут быть -1 и 1), добавляет к матрице `X` слева столбец из единиц, инициализирует вектор весов `w` **нулями** и в цикле с числом итераций `n_iter` обновляет веса по выведенной вами формуле, а также записывает получившиеся на данной итерации значения log_loss и вектор весов `w` в предназначенные для этого списки. \n",
    "- В конце метод `fit` создает переменную `w_`, в которой хранится тот вектор весов, при котором ошибка минимальна\n",
    "- Метод `fit` должен возвращать текущий экземпляр класса `SGDClassifier`, т.е. `self`\n",
    "- Метод `predict_proba` принимает матрицу `X`, добавляет к ней слева столбец из единиц и возвращает матрицу прогнозов модели (такую же, какую возвращают методы `predict_proba` моделей `sklearn`), используя созданный методом `fit` вектор весов `w_`\n",
    "- Метод `predict` вызывает метод  `predict_proba` и возвращает вектор ответов: -1, если предсказанная вероятность класса 1 меньше 0.5 и 1 – в противном случае\n",
    "- И еще **важный момент**: во избежание вычислительных проблем из-за слишком больших или малых значений под экспонентной (overflow & underflow) используйте написанную функцию `sigma`"
   ]
  },
  {
   "cell_type": "code",
   "execution_count": 19,
   "metadata": {},
   "outputs": [],
   "source": [
    "def sigma(z):\n",
    "    z = z.flatten()\n",
    "    z[z > 100] = 100\n",
    "    z[z < -100] = -100\n",
    "    return 1.0 / (1 + np.exp(-z))"
   ]
  },
  {
   "cell_type": "code",
   "execution_count": 34,
   "metadata": {},
   "outputs": [],
   "source": [
    "class SGDClassifier(BaseEstimator):\n",
    "    \n",
    "    def __init__(self, C=1, eta=10 ** (-3), n_iter=10):\n",
    "        self.C = C\n",
    "        self.eta = eta\n",
    "        self.n_iter = n_iter        \n",
    "        self.loss_ = []\n",
    "        self.weights_ = []\n",
    "        \n",
    "#         n,m = X.shape \n",
    "#         X0 = np.ones((n,1))\n",
    "#         X = np.hstack((X0,X))  \n",
    "\n",
    "    def fit(self, X, y):\n",
    "\n",
    "        X = np.hstack([np.ones([X.shape[0], 1]), X])\n",
    "        w = np.ones(X.shape[1])\n",
    "        for k in range(self.n_iter):\n",
    "            \n",
    "            for i in range(X.shape[0]):                \n",
    "                w[0] +=  self.eta * self.C * y[i] * sigma( -y[i] * w.dot(X[i, :]))\n",
    "                for j in range(1, X.shape[1]):\n",
    "                    w[j] += self.eta *( self.C * y[i] * X[i, j] * \n",
    "                                       sigma(-y[i] * w.dot(X[i, :]))\n",
    "                                     - w[j])\n",
    "                \n",
    "                                        \n",
    "                self.loss_.append(log_loss(y, sigma(X.dot(w))))\n",
    "                self.weights_.append(w)\n",
    "    \n",
    "        self.w_ = self.weights_[np.argmin(self.loss_)]\n",
    "        return self \n",
    "                  \n",
    "    def predict_proba(self, X):\n",
    "        X = np.hstack([np.ones([X.shape[0], 1]), X])\n",
    "        p_vec = sigma(X.dot(self.w_)).reshape([X.shape[0], 1])\n",
    "        return np.hstack([1 - p_vec, p_vec])\n",
    "    \n",
    "    def predict(self, X):\n",
    "        pred_probs = self.predict_proba(X)[:, 1]\n",
    "        signs = np.sign(pred_probs - 0.5) \n",
    "        # но могли остаться нули, если значения в pred_probs = 0.5 в точности\n",
    "        signs[np.where(signs == 0)] = 1\n",
    "        return signs"
   ]
  },
  {
   "cell_type": "markdown",
   "metadata": {},
   "source": [
    "Проверим `SGDClassifier` на данных UCI по раку молочной железы."
   ]
  },
  {
   "cell_type": "code",
   "execution_count": 22,
   "metadata": {},
   "outputs": [],
   "source": [
    "from sklearn.datasets import load_breast_cancer"
   ]
  },
  {
   "cell_type": "code",
   "execution_count": 24,
   "metadata": {},
   "outputs": [],
   "source": [
    "cancer = load_breast_cancer()\n",
    "# поменяем метки в y с 0 на -1\n",
    "X, y = cancer.data, [-1 if i == 0 else 1 for i in cancer.target]"
   ]
  },
  {
   "cell_type": "markdown",
   "metadata": {},
   "source": [
    "Выделим 70% под обучение, 30% – под проверку и масштабируем выборку."
   ]
  },
  {
   "cell_type": "code",
   "execution_count": 25,
   "metadata": {},
   "outputs": [],
   "source": [
    "X_train, X_valid, y_train, y_valid = train_test_split(\n",
    "    X, y, test_size=0.3, random_state=17\n",
    ")"
   ]
  },
  {
   "cell_type": "code",
   "execution_count": 26,
   "metadata": {},
   "outputs": [],
   "source": [
    "scaler = StandardScaler()\n",
    "X_train_scaled = scaler.fit_transform(X_train)\n",
    "X_valid_scaled = scaler.transform(X_valid)"
   ]
  },
  {
   "cell_type": "markdown",
   "metadata": {},
   "source": [
    "Обучите на масштибированной выборке `SGDClassifier` с параметрами `C`=1, `eta`=$10^{-3}$ и `n_iter`=3."
   ]
  },
  {
   "cell_type": "code",
   "execution_count": 27,
   "metadata": {},
   "outputs": [
    {
     "data": {
      "text/html": [
       "<style>#sk-container-id-2 {color: black;background-color: white;}#sk-container-id-2 pre{padding: 0;}#sk-container-id-2 div.sk-toggleable {background-color: white;}#sk-container-id-2 label.sk-toggleable__label {cursor: pointer;display: block;width: 100%;margin-bottom: 0;padding: 0.3em;box-sizing: border-box;text-align: center;}#sk-container-id-2 label.sk-toggleable__label-arrow:before {content: \"▸\";float: left;margin-right: 0.25em;color: #696969;}#sk-container-id-2 label.sk-toggleable__label-arrow:hover:before {color: black;}#sk-container-id-2 div.sk-estimator:hover label.sk-toggleable__label-arrow:before {color: black;}#sk-container-id-2 div.sk-toggleable__content {max-height: 0;max-width: 0;overflow: hidden;text-align: left;background-color: #f0f8ff;}#sk-container-id-2 div.sk-toggleable__content pre {margin: 0.2em;color: black;border-radius: 0.25em;background-color: #f0f8ff;}#sk-container-id-2 input.sk-toggleable__control:checked~div.sk-toggleable__content {max-height: 200px;max-width: 100%;overflow: auto;}#sk-container-id-2 input.sk-toggleable__control:checked~label.sk-toggleable__label-arrow:before {content: \"▾\";}#sk-container-id-2 div.sk-estimator input.sk-toggleable__control:checked~label.sk-toggleable__label {background-color: #d4ebff;}#sk-container-id-2 div.sk-label input.sk-toggleable__control:checked~label.sk-toggleable__label {background-color: #d4ebff;}#sk-container-id-2 input.sk-hidden--visually {border: 0;clip: rect(1px 1px 1px 1px);clip: rect(1px, 1px, 1px, 1px);height: 1px;margin: -1px;overflow: hidden;padding: 0;position: absolute;width: 1px;}#sk-container-id-2 div.sk-estimator {font-family: monospace;background-color: #f0f8ff;border: 1px dotted black;border-radius: 0.25em;box-sizing: border-box;margin-bottom: 0.5em;}#sk-container-id-2 div.sk-estimator:hover {background-color: #d4ebff;}#sk-container-id-2 div.sk-parallel-item::after {content: \"\";width: 100%;border-bottom: 1px solid gray;flex-grow: 1;}#sk-container-id-2 div.sk-label:hover label.sk-toggleable__label {background-color: #d4ebff;}#sk-container-id-2 div.sk-serial::before {content: \"\";position: absolute;border-left: 1px solid gray;box-sizing: border-box;top: 0;bottom: 0;left: 50%;z-index: 0;}#sk-container-id-2 div.sk-serial {display: flex;flex-direction: column;align-items: center;background-color: white;padding-right: 0.2em;padding-left: 0.2em;position: relative;}#sk-container-id-2 div.sk-item {position: relative;z-index: 1;}#sk-container-id-2 div.sk-parallel {display: flex;align-items: stretch;justify-content: center;background-color: white;position: relative;}#sk-container-id-2 div.sk-item::before, #sk-container-id-2 div.sk-parallel-item::before {content: \"\";position: absolute;border-left: 1px solid gray;box-sizing: border-box;top: 0;bottom: 0;left: 50%;z-index: -1;}#sk-container-id-2 div.sk-parallel-item {display: flex;flex-direction: column;z-index: 1;position: relative;background-color: white;}#sk-container-id-2 div.sk-parallel-item:first-child::after {align-self: flex-end;width: 50%;}#sk-container-id-2 div.sk-parallel-item:last-child::after {align-self: flex-start;width: 50%;}#sk-container-id-2 div.sk-parallel-item:only-child::after {width: 0;}#sk-container-id-2 div.sk-dashed-wrapped {border: 1px dashed gray;margin: 0 0.4em 0.5em 0.4em;box-sizing: border-box;padding-bottom: 0.4em;background-color: white;}#sk-container-id-2 div.sk-label label {font-family: monospace;font-weight: bold;display: inline-block;line-height: 1.2em;}#sk-container-id-2 div.sk-label-container {text-align: center;}#sk-container-id-2 div.sk-container {/* jupyter's `normalize.less` sets `[hidden] { display: none; }` but bootstrap.min.css set `[hidden] { display: none !important; }` so we also need the `!important` here to be able to override the default hidden behavior on the sphinx rendered scikit-learn.org. See: https://github.com/scikit-learn/scikit-learn/issues/21755 */display: inline-block !important;position: relative;}#sk-container-id-2 div.sk-text-repr-fallback {display: none;}</style><div id=\"sk-container-id-2\" class=\"sk-top-container\"><div class=\"sk-text-repr-fallback\"><pre>SGDClassifier(n_iter=3)</pre><b>In a Jupyter environment, please rerun this cell to show the HTML representation or trust the notebook. <br />On GitHub, the HTML representation is unable to render, please try loading this page with nbviewer.org.</b></div><div class=\"sk-container\" hidden><div class=\"sk-item\"><div class=\"sk-estimator sk-toggleable\"><input class=\"sk-toggleable__control sk-hidden--visually\" id=\"sk-estimator-id-2\" type=\"checkbox\" checked><label for=\"sk-estimator-id-2\" class=\"sk-toggleable__label sk-toggleable__label-arrow\">SGDClassifier</label><div class=\"sk-toggleable__content\"><pre>SGDClassifier(n_iter=3)</pre></div></div></div></div></div>"
      ],
      "text/plain": [
       "SGDClassifier(n_iter=3)"
      ]
     },
     "execution_count": 27,
     "metadata": {},
     "output_type": "execute_result"
    }
   ],
   "source": [
    "clas = SGDClassifier(C=1, n_iter=3)\n",
    "clas.fit(X_train_scaled, y_train)"
   ]
  },
  {
   "cell_type": "markdown",
   "metadata": {},
   "source": [
    "Постройте график изменения log_loss."
   ]
  },
  {
   "cell_type": "code",
   "execution_count": 28,
   "metadata": {},
   "outputs": [
    {
     "data": {
      "image/png": "[encoded data removed]",
      "text/plain": [
       "<Figure size 432x288 with 1 Axes>"
      ]
     },
     "metadata": {
      "needs_background": "light"
     },
     "output_type": "display_data"
    }
   ],
   "source": [
    "plt.plot(range(len(clas.loss_)), clas.loss_);"
   ]
  },
  {
   "cell_type": "markdown",
   "metadata": {},
   "source": [
    "Теперь обучите `SGDClassifier` с параметром `C`=1000, число проходов по выборке увеличьте до 10."
   ]
  },
  {
   "cell_type": "code",
   "execution_count": 35,
   "metadata": {
    "scrolled": true
   },
   "outputs": [
    {
     "data": {
      "text/html": [
       "<style>#sk-container-id-4 {color: black;background-color: white;}#sk-container-id-4 pre{padding: 0;}#sk-container-id-4 div.sk-toggleable {background-color: white;}#sk-container-id-4 label.sk-toggleable__label {cursor: pointer;display: block;width: 100%;margin-bottom: 0;padding: 0.3em;box-sizing: border-box;text-align: center;}#sk-container-id-4 label.sk-toggleable__label-arrow:before {content: \"▸\";float: left;margin-right: 0.25em;color: #696969;}#sk-container-id-4 label.sk-toggleable__label-arrow:hover:before {color: black;}#sk-container-id-4 div.sk-estimator:hover label.sk-toggleable__label-arrow:before {color: black;}#sk-container-id-4 div.sk-toggleable__content {max-height: 0;max-width: 0;overflow: hidden;text-align: left;background-color: #f0f8ff;}#sk-container-id-4 div.sk-toggleable__content pre {margin: 0.2em;color: black;border-radius: 0.25em;background-color: #f0f8ff;}#sk-container-id-4 input.sk-toggleable__control:checked~div.sk-toggleable__content {max-height: 200px;max-width: 100%;overflow: auto;}#sk-container-id-4 input.sk-toggleable__control:checked~label.sk-toggleable__label-arrow:before {content: \"▾\";}#sk-container-id-4 div.sk-estimator input.sk-toggleable__control:checked~label.sk-toggleable__label {background-color: #d4ebff;}#sk-container-id-4 div.sk-label input.sk-toggleable__control:checked~label.sk-toggleable__label {background-color: #d4ebff;}#sk-container-id-4 input.sk-hidden--visually {border: 0;clip: rect(1px 1px 1px 1px);clip: rect(1px, 1px, 1px, 1px);height: 1px;margin: -1px;overflow: hidden;padding: 0;position: absolute;width: 1px;}#sk-container-id-4 div.sk-estimator {font-family: monospace;background-color: #f0f8ff;border: 1px dotted black;border-radius: 0.25em;box-sizing: border-box;margin-bottom: 0.5em;}#sk-container-id-4 div.sk-estimator:hover {background-color: #d4ebff;}#sk-container-id-4 div.sk-parallel-item::after {content: \"\";width: 100%;border-bottom: 1px solid gray;flex-grow: 1;}#sk-container-id-4 div.sk-label:hover label.sk-toggleable__label {background-color: #d4ebff;}#sk-container-id-4 div.sk-serial::before {content: \"\";position: absolute;border-left: 1px solid gray;box-sizing: border-box;top: 0;bottom: 0;left: 50%;z-index: 0;}#sk-container-id-4 div.sk-serial {display: flex;flex-direction: column;align-items: center;background-color: white;padding-right: 0.2em;padding-left: 0.2em;position: relative;}#sk-container-id-4 div.sk-item {position: relative;z-index: 1;}#sk-container-id-4 div.sk-parallel {display: flex;align-items: stretch;justify-content: center;background-color: white;position: relative;}#sk-container-id-4 div.sk-item::before, #sk-container-id-4 div.sk-parallel-item::before {content: \"\";position: absolute;border-left: 1px solid gray;box-sizing: border-box;top: 0;bottom: 0;left: 50%;z-index: -1;}#sk-container-id-4 div.sk-parallel-item {display: flex;flex-direction: column;z-index: 1;position: relative;background-color: white;}#sk-container-id-4 div.sk-parallel-item:first-child::after {align-self: flex-end;width: 50%;}#sk-container-id-4 div.sk-parallel-item:last-child::after {align-self: flex-start;width: 50%;}#sk-container-id-4 div.sk-parallel-item:only-child::after {width: 0;}#sk-container-id-4 div.sk-dashed-wrapped {border: 1px dashed gray;margin: 0 0.4em 0.5em 0.4em;box-sizing: border-box;padding-bottom: 0.4em;background-color: white;}#sk-container-id-4 div.sk-label label {font-family: monospace;font-weight: bold;display: inline-block;line-height: 1.2em;}#sk-container-id-4 div.sk-label-container {text-align: center;}#sk-container-id-4 div.sk-container {/* jupyter's `normalize.less` sets `[hidden] { display: none; }` but bootstrap.min.css set `[hidden] { display: none !important; }` so we also need the `!important` here to be able to override the default hidden behavior on the sphinx rendered scikit-learn.org. See: https://github.com/scikit-learn/scikit-learn/issues/21755 */display: inline-block !important;position: relative;}#sk-container-id-4 div.sk-text-repr-fallback {display: none;}</style><div id=\"sk-container-id-4\" class=\"sk-top-container\"><div class=\"sk-text-repr-fallback\"><pre>SGDClassifier(C=1000)</pre><b>In a Jupyter environment, please rerun this cell to show the HTML representation or trust the notebook. <br />On GitHub, the HTML representation is unable to render, please try loading this page with nbviewer.org.</b></div><div class=\"sk-container\" hidden><div class=\"sk-item\"><div class=\"sk-estimator sk-toggleable\"><input class=\"sk-toggleable__control sk-hidden--visually\" id=\"sk-estimator-id-4\" type=\"checkbox\" checked><label for=\"sk-estimator-id-4\" class=\"sk-toggleable__label sk-toggleable__label-arrow\">SGDClassifier</label><div class=\"sk-toggleable__content\"><pre>SGDClassifier(C=1000)</pre></div></div></div></div></div>"
      ],
      "text/plain": [
       "SGDClassifier(C=1000)"
      ]
     },
     "execution_count": 35,
     "metadata": {},
     "output_type": "execute_result"
    }
   ],
   "source": [
    "clas = SGDClassifier(C=1000, eta=10 ** (-3), n_iter=10)\n",
    "clas.fit(X_train_scaled, y_train)"
   ]
  },
  {
   "cell_type": "code",
   "execution_count": 54,
   "metadata": {},
   "outputs": [],
   "source": [
    "pred = clas.predict(X_valid_scaled)"
   ]
  },
  {
   "cell_type": "code",
   "execution_count": 37,
   "metadata": {},
   "outputs": [
    {
     "data": {
      "text/plain": [
       "([13.550197263805886,\n",
       "  7.271460841175061,\n",
       "  4.167509109226513,\n",
       "  3.954499383535133,\n",
       "  0.8112376788494005,\n",
       "  0.8104576646739933,\n",
       "  0.649941026168058,\n",
       "  0.7772915081003235,\n",
       "  0.6545619165222801,\n",
       "  0.6540587771808014,\n",
       "  0.6535687144150885,\n",
       "  0.5424157876788811,\n",
       "  0.5369377593123345,\n",
       "  0.5871082086721059,\n",
       "  0.5875125547691201,\n",
       "  0.5677368416518601,\n",
       "  0.5672854280136976,\n",
       "  0.5173547046123335,\n",
       "  0.5169809858057319,\n",
       "  0.5165900922988115,\n",
       "  0.44386225448801314,\n",
       "  0.29180868332690585,\n",
       "  0.256950945348693,\n",
       "  0.25683762368173685,\n",
       "  0.25672472462639495,\n",
       "  0.2566119708350269,\n",
       "  0.25431582950693843,\n",
       "  0.25407234268350304,\n",
       "  0.25291529691096576,\n",
       "  0.24703980857387103,\n",
       "  0.24688058469170748,\n",
       "  0.2467421542112008,\n",
       "  0.24658313685037947,\n",
       "  0.24614040067298418,\n",
       "  0.2457049344693617,\n",
       "  0.24554569965056877,\n",
       "  0.25726621687273105,\n",
       "  0.256964401561059,\n",
       "  0.27536720245498286,\n",
       "  0.27526088042929936,\n",
       "  0.27367766505919955,\n",
       "  0.2685040986209263,\n",
       "  0.2374637486407596,\n",
       "  0.3640608242562651,\n",
       "  0.36012021301224983,\n",
       "  0.3680212024538348,\n",
       "  0.367869401583385,\n",
       "  0.3677396301713632,\n",
       "  0.28570636930472115,\n",
       "  0.28403973192113785,\n",
       "  0.2838913936439517,\n",
       "  0.28374333409755326,\n",
       "  0.2835952517290307,\n",
       "  0.26150674995150086,\n",
       "  0.2611229146144923,\n",
       "  0.25121875963501805,\n",
       "  0.2510878811630483,\n",
       "  0.18703391484417842,\n",
       "  0.17240816309565346,\n",
       "  0.17228020352071882,\n",
       "  0.1611378115608791,\n",
       "  0.16101859280152667,\n",
       "  0.16089966387637802,\n",
       "  0.16078090881569615,\n",
       "  0.16125184972887044,\n",
       "  0.1611330102513674,\n",
       "  0.16100444726461838,\n",
       "  0.14249266797335924,\n",
       "  0.142388723425216,\n",
       "  0.1423350964957614,\n",
       "  0.1422799326245396,\n",
       "  0.13709821548919193,\n",
       "  0.13704586702401647,\n",
       "  0.16449177746659602,\n",
       "  0.16436881105117163,\n",
       "  0.16424803967363222,\n",
       "  0.1641776450942574,\n",
       "  0.1553375901139377,\n",
       "  0.15524392785723204,\n",
       "  0.15515119104275887,\n",
       "  0.15480133285761938,\n",
       "  0.12283038181674791,\n",
       "  0.15332208118893143,\n",
       "  0.15323369025106914,\n",
       "  0.153142541891437,\n",
       "  0.153051608446879,\n",
       "  0.15296089009362301,\n",
       "  0.15287035179601963,\n",
       "  0.1527818932079331,\n",
       "  0.15214996780935192,\n",
       "  0.15206070302372449,\n",
       "  0.15197168328840951,\n",
       "  0.15188376599377973,\n",
       "  0.15181943952025434,\n",
       "  0.1517308344614423,\n",
       "  0.14508655420173605,\n",
       "  0.1450024517640326,\n",
       "  0.14501982566740282,\n",
       "  0.14493600717136484,\n",
       "  0.14485239371279524,\n",
       "  0.14476898520063908,\n",
       "  0.1447383087246806,\n",
       "  0.1446552720824636,\n",
       "  0.1426621872775123,\n",
       "  0.14257335646267694,\n",
       "  0.13191719367159474,\n",
       "  0.1229355237258353,\n",
       "  0.12286027990329841,\n",
       "  0.12278417761675639,\n",
       "  0.12270922757886212,\n",
       "  0.12263452367136612,\n",
       "  0.12256204082947007,\n",
       "  0.12248770484657541,\n",
       "  0.12228830438493696,\n",
       "  0.12221438010208358,\n",
       "  0.12212904002137058,\n",
       "  0.12198356246731919,\n",
       "  0.12178958946893303,\n",
       "  0.12172195471933249,\n",
       "  0.12164580551571241,\n",
       "  0.20411810298799754,\n",
       "  0.18614962129969828,\n",
       "  0.18126912630790643,\n",
       "  0.1806618237638736,\n",
       "  0.18046303626017138,\n",
       "  0.18033785954380188,\n",
       "  0.18021629732836905,\n",
       "  0.1801112810255948,\n",
       "  0.1799644111123498,\n",
       "  0.17985982040476298,\n",
       "  0.17907020030153237,\n",
       "  0.1773121108039152,\n",
       "  0.16153553523417363,\n",
       "  0.14426721653353788,\n",
       "  0.1441700842131918,\n",
       "  0.14409949914643194,\n",
       "  0.15333855229310903,\n",
       "  0.15220463291508773,\n",
       "  0.1521883477439808,\n",
       "  0.15210454819850308,\n",
       "  0.142379179135367,\n",
       "  0.14230848516431954,\n",
       "  0.14218981703917385,\n",
       "  0.14212031093509578,\n",
       "  0.14203567881675666,\n",
       "  0.14196528028686628,\n",
       "  0.141896301034375,\n",
       "  0.14182749303564893,\n",
       "  0.14176076826675177,\n",
       "  0.14125035003922776,\n",
       "  0.1411823430083168,\n",
       "  0.14111152447006056,\n",
       "  0.14104392180868563,\n",
       "  0.11299820931370713,\n",
       "  0.11294507424948501,\n",
       "  0.11289438214475393,\n",
       "  0.11279402583450623,\n",
       "  0.11284383832068506,\n",
       "  0.12884141052039963,\n",
       "  0.12877984048392208,\n",
       "  0.11437017734884518,\n",
       "  0.11410435458436861,\n",
       "  0.1140562132520018,\n",
       "  0.1365392839589221,\n",
       "  0.13648076448792082,\n",
       "  0.1278527623859217,\n",
       "  0.12780268894351343,\n",
       "  0.12775278067308807,\n",
       "  0.1249206324993934,\n",
       "  0.12481805388448282,\n",
       "  0.12477470733876533,\n",
       "  0.12472312333724878,\n",
       "  0.12467961672674702,\n",
       "  0.13174924505455582,\n",
       "  0.1317153817389831,\n",
       "  0.13168978178404048,\n",
       "  0.13165624039635443,\n",
       "  0.13162320783602494,\n",
       "  0.1315875790875239,\n",
       "  0.13155441454442535,\n",
       "  0.14226599645449825,\n",
       "  0.14222729952184343,\n",
       "  0.14218877251211967,\n",
       "  0.14056769957359944,\n",
       "  0.14052249047981696,\n",
       "  0.14048277474846899,\n",
       "  0.14044322042759486,\n",
       "  0.13932312107799572,\n",
       "  0.13013806573192402,\n",
       "  0.1300847767577664,\n",
       "  0.13005569157956695,\n",
       "  0.1300248727773284,\n",
       "  0.12809069282763005,\n",
       "  0.1279598948624277,\n",
       "  0.12793934013938937,\n",
       "  0.1278784036163129,\n",
       "  0.12785820396481853,\n",
       "  0.12783817827657712,\n",
       "  0.12781821932461782,\n",
       "  0.12779322386136474,\n",
       "  0.12260824507119425,\n",
       "  0.12258977477019246,\n",
       "  0.1225714671491632,\n",
       "  0.12255332207080451,\n",
       "  0.12253533222776751,\n",
       "  0.12239687791985134,\n",
       "  0.12237926468873798,\n",
       "  0.12236181377730691,\n",
       "  0.12234444161411162,\n",
       "  0.12273445232183512,\n",
       "  0.12189635187145899,\n",
       "  0.12187900856663267,\n",
       "  0.12186497778054743,\n",
       "  0.12216265458813348,\n",
       "  0.12214199741728915,\n",
       "  0.12200785139169636,\n",
       "  0.12199128551884057,\n",
       "  0.12197490219063799,\n",
       "  0.14184742602012887,\n",
       "  0.1267362310615438,\n",
       "  0.12668452488776835,\n",
       "  0.12663292110932536,\n",
       "  0.11159918698713167,\n",
       "  0.11156959625849926,\n",
       "  0.11153868494548295,\n",
       "  0.11150892963308932,\n",
       "  0.11147976963388796,\n",
       "  0.11132190473797866,\n",
       "  0.11129312923431145,\n",
       "  0.1103240284716917,\n",
       "  0.11029593738258768,\n",
       "  0.11026800553451725,\n",
       "  0.11009531829067402,\n",
       "  0.11006780450615691,\n",
       "  0.10025043531338797,\n",
       "  0.1002312778835366,\n",
       "  0.10021916065233882,\n",
       "  0.1002002949010575,\n",
       "  0.10020928710524564,\n",
       "  0.09987212435710935,\n",
       "  0.09897539401760536,\n",
       "  0.09894961634129902,\n",
       "  0.09889127702022547,\n",
       "  0.0988661008983118,\n",
       "  0.09884091766433804,\n",
       "  0.09855689914305654,\n",
       "  0.09853127657747264,\n",
       "  0.0985254230547329,\n",
       "  0.09850072510339913,\n",
       "  0.09847630678097959,\n",
       "  0.08063968539392276,\n",
       "  0.06788703508007518,\n",
       "  0.06789620457136535,\n",
       "  0.06788922789322775,\n",
       "  0.06788235390268613,\n",
       "  0.06787558288320662,\n",
       "  0.0678689426021779,\n",
       "  0.07803269394504686,\n",
       "  0.06588607046460937,\n",
       "  0.06588037048811739,\n",
       "  0.06587624768538691,\n",
       "  0.06217767310220471,\n",
       "  0.06216889154130224,\n",
       "  0.06216044911051589,\n",
       "  0.06215183556565127,\n",
       "  0.062143301944192174,\n",
       "  0.062135203583525284,\n",
       "  0.06214209792564345,\n",
       "  0.06213373064468722,\n",
       "  0.0634448678989862,\n",
       "  0.06343579349636239,\n",
       "  0.06342754609180949,\n",
       "  0.06341863626300823,\n",
       "  0.06340989036259578,\n",
       "  0.06340113736400628,\n",
       "  0.06339302249057291,\n",
       "  0.06338462528184506,\n",
       "  0.06378152181947584,\n",
       "  0.06377397900268955,\n",
       "  0.06376431556155444,\n",
       "  0.06375599118213697,\n",
       "  0.06368788604282931,\n",
       "  0.06371075702483316,\n",
       "  0.08072932583650583,\n",
       "  0.0807265816954477,\n",
       "  0.08076881981698247,\n",
       "  0.08104978122688442,\n",
       "  0.09320689249318427,\n",
       "  0.09319373891284674,\n",
       "  0.09312910402357302,\n",
       "  0.09311626345512952,\n",
       "  0.09310349881730905,\n",
       "  0.09309081098847846,\n",
       "  0.0932184909859942,\n",
       "  0.09320592658511491,\n",
       "  0.09319348222026316,\n",
       "  0.09318938678857595,\n",
       "  0.09181234827795239,\n",
       "  0.0918012274355152,\n",
       "  0.0918104903219029,\n",
       "  0.0918420437444534,\n",
       "  0.0918315598960868,\n",
       "  0.09182284759376477,\n",
       "  0.0918123574499341,\n",
       "  0.09180184259846244,\n",
       "  0.08181157558915225,\n",
       "  0.08184675443462526,\n",
       "  0.08186415096213938,\n",
       "  0.08188834940630721,\n",
       "  0.08249399787576366,\n",
       "  0.07175232038520966,\n",
       "  0.07181352795337329,\n",
       "  0.07183727447485802,\n",
       "  0.07186119037573392,\n",
       "  0.07194395539945257,\n",
       "  0.07196801388261664,\n",
       "  0.07199341586897501,\n",
       "  0.07201634623097664,\n",
       "  0.0722438578775952,\n",
       "  0.07226827719922824,\n",
       "  0.07222672052374103,\n",
       "  0.07225163242921463,\n",
       "  0.0722766589567444,\n",
       "  0.0739513309120451,\n",
       "  0.1597310060037513,\n",
       "  0.15963359819752085,\n",
       "  0.15140642852267983,\n",
       "  0.15137476128771232,\n",
       "  0.1512843234205735,\n",
       "  0.12456835954291424,\n",
       "  0.12588512894485165,\n",
       "  0.12539049261764906,\n",
       "  0.12701884385282294,\n",
       "  0.1259756460713622,\n",
       "  0.12590708745311585,\n",
       "  0.12442005529259645,\n",
       "  0.12435307477871874,\n",
       "  0.0879684519032041,\n",
       "  0.08170341354937298,\n",
       "  0.08162399907870703,\n",
       "  0.08161294593184103,\n",
       "  0.08160919876081109,\n",
       "  0.08160530553836896,\n",
       "  0.0816010779795712,\n",
       "  0.08156289648980321,\n",
       "  0.08153948425828428,\n",
       "  0.0812388021146198,\n",
       "  0.08123618942010759,\n",
       "  0.08123377649155834,\n",
       "  0.08123154750235106,\n",
       "  0.08122950943202145,\n",
       "  0.07367101020645231,\n",
       "  0.07359531257679591,\n",
       "  0.07348919992743669,\n",
       "  0.06432382703247577,\n",
       "  0.06434924498570589,\n",
       "  0.06437471083702175,\n",
       "  0.06440022717351364,\n",
       "  0.064355790070464,\n",
       "  0.06436289964713343,\n",
       "  0.0992569303895716,\n",
       "  0.09923644090507858,\n",
       "  0.11629478690634268,\n",
       "  0.11615891841566424,\n",
       "  0.11609531110539631,\n",
       "  0.13506171012671764,\n",
       "  0.12772352116961455,\n",
       "  0.10365448538633891,\n",
       "  0.08841619908230071,\n",
       "  0.08706498902324046,\n",
       "  0.0863313652498436,\n",
       "  0.08593474302263371,\n",
       "  0.08352201213031334,\n",
       "  0.08357729330575703,\n",
       "  0.08363273417557143,\n",
       "  0.08341363082211933,\n",
       "  0.08346927130603943,\n",
       "  0.08352018564754767,\n",
       "  0.07035872087358003,\n",
       "  0.07040206151932626,\n",
       "  0.07044697850239943,\n",
       "  0.07049202152232996,\n",
       "  0.07053705909092785,\n",
       "  0.06464204337375414,\n",
       "  0.06436082838198663,\n",
       "  0.057349698455356035,\n",
       "  0.057371987389815284,\n",
       "  0.057239182074251486,\n",
       "  0.05721325216574408,\n",
       "  0.0572372597597872,\n",
       "  0.05725880638421809,\n",
       "  0.0574242992593781,\n",
       "  0.05746461850457514,\n",
       "  0.0574869782378903,\n",
       "  0.06088258115755893,\n",
       "  0.060909467560878554,\n",
       "  0.060955120583199685,\n",
       "  0.06098237998048844,\n",
       "  0.058796289462031415,\n",
       "  0.055478865045284216,\n",
       "  0.05547495423021169,\n",
       "  0.05547464832740297,\n",
       "  0.05547490263155575,\n",
       "  0.05547288277249814,\n",
       "  0.0554732903545793,\n",
       "  0.05513205597727659,\n",
       "  0.05472201029923054,\n",
       "  0.05472289038088029,\n",
       "  0.0547238462594075,\n",
       "  0.05494064232611316,\n",
       "  0.054940941531811165,\n",
       "  0.0593663761448685,\n",
       "  0.05924412463691472,\n",
       "  0.05921822566526208,\n",
       "  0.05923310574492116,\n",
       "  0.05920200904741579,\n",
       "  0.0592170312601544,\n",
       "  0.059232110357978984,\n",
       "  0.05924714069267419,\n",
       "  0.05919860832572587,\n",
       "  0.06003149198943194,\n",
       "  0.060046863320510575,\n",
       "  0.06006235167408902,\n",
       "  0.060077862805537785,\n",
       "  0.08980631185620158,\n",
       "  0.08963343181454293,\n",
       "  0.08945966962387984,\n",
       "  0.08328754035815147,\n",
       "  0.08327390043688238,\n",
       "  0.08336201798334456,\n",
       "  0.08334836641256267,\n",
       "  0.0836588380384855,\n",
       "  0.08370564171861727,\n",
       "  0.0836916997358083,\n",
       "  0.08059949544931387,\n",
       "  0.08058726244344924,\n",
       "  0.08016328428145983,\n",
       "  0.08015035730314743,\n",
       "  0.08017909572705607,\n",
       "  0.08021280007167365,\n",
       "  0.08020264159611006,\n",
       "  0.092283325603186,\n",
       "  0.09226390208908576,\n",
       "  0.08352871628726499,\n",
       "  0.0835131463530125,\n",
       "  0.08349741757889087,\n",
       "  0.0834844612241794,\n",
       "  0.08347940255539332,\n",
       "  0.08346419780151187,\n",
       "  0.08344908132807653,\n",
       "  0.08343284800985537,\n",
       "  0.07843185599584683,\n",
       "  0.07837197924240169,\n",
       "  0.07836515493705078,\n",
       "  0.07830465158306359,\n",
       "  0.07829904199507119,\n",
       "  0.07376977563297016,\n",
       "  0.07375771084213263,\n",
       "  0.07348224793631411,\n",
       "  0.07346772492585063,\n",
       "  0.07337861886714774,\n",
       "  0.07336424304613404,\n",
       "  0.07878602953733306,\n",
       "  0.0787686532061999,\n",
       "  0.07872550910651983,\n",
       "  0.07932597723262104,\n",
       "  0.07930063411973313,\n",
       "  0.07928148766726997,\n",
       "  0.07926016509837706,\n",
       "  0.07920969034270339,\n",
       "  0.07919098145377504,\n",
       "  0.09351632327310397,\n",
       "  0.09349403713343225,\n",
       "  0.09347297056019176,\n",
       "  0.0934560740126867,\n",
       "  0.09282066641245297,\n",
       "  0.09279799238218198,\n",
       "  0.09277565609965564,\n",
       "  0.09275616438726736,\n",
       "  0.05221544952555241,\n",
       "  0.06609320723656237,\n",
       "  0.06608610668860124,\n",
       "  0.06607886627261633,\n",
       "  0.06607169925488279,\n",
       "  0.06606460569757651,\n",
       "  0.06605758089930158,\n",
       "  0.0660510391147501,\n",
       "  0.06604353242678175,\n",
       "  0.06603672425003326,\n",
       "  0.06603054918230476,\n",
       "  0.06602388071441369,\n",
       "  0.06601973252544156,\n",
       "  0.06601336568277959,\n",
       "  0.06600449522252325,\n",
       "  0.06599811746189038,\n",
       "  0.06599010785113939,\n",
       "  0.0659838742542971,\n",
       "  0.06597771386326773,\n",
       "  0.06597162674349795,\n",
       "  0.06597682128757995,\n",
       "  0.06597114128225368,\n",
       "  0.1010326697648801,\n",
       "  0.10103191860616288,\n",
       "  0.0875201491002921,\n",
       "  0.08248862565913327,\n",
       "  0.08248801243768297,\n",
       "  0.08161165381058057,\n",
       "  0.08161081542424366,\n",
       "  0.08161011490938129,\n",
       "  0.0815636166262029,\n",
       "  0.08156310792166233,\n",
       "  0.08095261598840497,\n",
       "  0.08095216218310991,\n",
       "  0.08078788565251944,\n",
       "  0.08074982221404632,\n",
       "  0.08059429001050426,\n",
       "  0.08054610271659966,\n",
       "  0.08038408325929243,\n",
       "  0.08358982297806354,\n",
       "  0.08279240240296268,\n",
       "  0.08272944194149759,\n",
       "  0.0827063639522522,\n",
       "  0.08269976461059886,\n",
       "  0.08269109713284495,\n",
       "  0.08269055650171737,\n",
       "  0.0826897533579238,\n",
       "  0.08268912635826027,\n",
       "  0.0826884816494392,\n",
       "  0.08227559598143262,\n",
       "  0.08227374316731535,\n",
       "  0.08211838157253813,\n",
       "  0.0639207822688048,\n",
       "  0.06390701221684046,\n",
       "  0.06389350122895844,\n",
       "  0.06312841690503938,\n",
       "  0.059628285605541544,\n",
       "  0.05969781148862001,\n",
       "  0.05968845160472041,\n",
       "  0.05970345586042021,\n",
       "  0.059700954245915414,\n",
       "  0.05969195869059126,\n",
       "  0.059682791019901496,\n",
       "  0.0596770742307328,\n",
       "  0.05966808900760718,\n",
       "  0.05965913359986889,\n",
       "  0.05965024972564081,\n",
       "  0.05964102736862244,\n",
       "  0.059642662402732194,\n",
       "  0.059634083884246784,\n",
       "  0.0596258403671392,\n",
       "  0.059617280194815506,\n",
       "  0.059496950683007394,\n",
       "  0.05948701292535596,\n",
       "  0.05947870908166794,\n",
       "  0.05949056923056317,\n",
       "  0.05950946124281815,\n",
       "  0.062440576378285095,\n",
       "  0.06243150018250514,\n",
       "  0.06242102256288464,\n",
       "  0.06179258991326028,\n",
       "  0.06178419938487395,\n",
       "  0.0612234682672744,\n",
       "  0.061215121636342636,\n",
       "  0.06091654059746996,\n",
       "  0.06090861881418393,\n",
       "  0.06090077681321201,\n",
       "  0.061060179360653125,\n",
       "  0.061051292228192354,\n",
       "  0.06104405183613334,\n",
       "  0.06103683237192083,\n",
       "  0.061029725677117355,\n",
       "  0.0635438332356974,\n",
       "  0.06353722003624272,\n",
       "  0.06353106487909016,\n",
       "  0.06352461708657978,\n",
       "  0.06351862957037287,\n",
       "  0.06351296375969749,\n",
       "  0.0635067639893198,\n",
       "  0.06856471602421581,\n",
       "  0.06855657256364901,\n",
       "  0.06854851766157273,\n",
       "  0.06836142348829996,\n",
       "  0.06835126979638838,\n",
       "  0.06834138096403239,\n",
       "  0.06833157682550899,\n",
       "  0.06828870936353668,\n",
       "  0.06815408364393269,\n",
       "  0.06814487461162981,\n",
       "  0.06813554015401083,\n",
       "  0.06812607446148004,\n",
       "  0.06697314171832763,\n",
       "  0.06697012558504968,\n",
       "  0.06696691655968806,\n",
       "  0.06688806327086759,\n",
       "  0.0668854231593876,\n",
       "  0.06688268468353502,\n",
       "  0.06688002581978594,\n",
       "  0.06687745464205633,\n",
       "  0.06660484967786122,\n",
       "  0.06660220082840171,\n",
       "  0.06659964085361758,\n",
       "  0.06659716765643822,\n",
       "  0.06659478071599016,\n",
       "  0.06658621403237593,\n",
       "  0.06658400326398527,\n",
       "  0.06658188032591447,\n",
       "  0.06657979162910095,\n",
       "  0.06682623024978689,\n",
       "  0.06681463859243578,\n",
       "  0.06681307243798285,\n",
       "  0.06858956682450698,\n",
       "  0.06859268652554801,\n",
       "  0.06858928307773879,\n",
       "  0.06857540834168623,\n",
       "  0.068572861772365,\n",
       "  0.06857042087959124,\n",
       "  0.06765985747561566,\n",
       "  0.06709428091057527,\n",
       "  0.06708421357801575,\n",
       "  0.0670742265833189,\n",
       "  0.06568988555075102,\n",
       "  0.06568122245018429,\n",
       "  0.06567149581516547,\n",
       "  0.06566296473705223,\n",
       "  0.06565457588939733,\n",
       "  0.06563081620255362,\n",
       "  0.06562262861968672,\n",
       "  0.06541257301671928,\n",
       "  0.06540444098336065,\n",
       "  0.06539640393559641,\n",
       "  0.06537116701329804,\n",
       "  0.0653633306879816,\n",
       "  0.06261844234910637,\n",
       "  0.06261328336572373,\n",
       "  0.06262331986163883,\n",
       "  0.0626183271279664,\n",
       "  0.06158195420390063,\n",
       "  0.06141742088736191,\n",
       "  0.06112521933630195,\n",
       "  0.06111856724079875,\n",
       "  0.06111008321936153,\n",
       "  0.06110382747268133,\n",
       "  0.061097812010533305,\n",
       "  0.06099901665676511,\n",
       "  0.060992030238775016,\n",
       "  0.0609922714600722,\n",
       "  0.06098625960003393,\n",
       "  0.06098077624410995,\n",
       "  0.05623160610158612,\n",
       "  0.05124653207869986,\n",
       "  0.05126576989967427,\n",
       "  0.051270758263762276,\n",
       "  0.051275812279886604,\n",
       "  0.05128093326245383,\n",
       "  0.05128627570846462,\n",
       "  0.057271100751494164,\n",
       "  0.0558726903523201,\n",
       "  0.055870416573552316,\n",
       "  0.05587199129786812,\n",
       "  0.052409231652884226,\n",
       "  0.052407325677250094,\n",
       "  0.05240561368599937,\n",
       "  0.052403835642547796,\n",
       "  0.052402120629341964,\n",
       "  0.052401025320391564,\n",
       "  0.052399946665484434,\n",
       "  0.05239831997309806,\n",
       "  0.05300245528797715,\n",
       "  0.05300052737698242,\n",
       "  0.053000429657185016,\n",
       "  0.05299862270206855,\n",
       "  0.052997093415404144,\n",
       "  0.052995359635638055,\n",
       "  0.052994051066321504,\n",
       "  0.05299325911475589,\n",
       "  0.05313867391936537,\n",
       "  0.053139486837348864,\n",
       "  0.05313716161999649,\n",
       "  0.05313697544773346,\n",
       "  0.053021258394078,\n",
       "  0.05302801471863554,\n",
       "  0.06594638882929678,\n",
       "  0.0659461278167736,\n",
       "  0.06597172738476159,\n",
       "  0.06609567334294036,\n",
       "  0.08043338194907584,\n",
       "  0.08041618821257832,\n",
       "  0.08036626079077361,\n",
       "  0.0803499871799767,\n",
       "  0.08033314358262128,\n",
       "  0.0803163369460545,\n",
       "  0.08048863338958,\n",
       "  0.0804718033327632,\n",
       "  0.08045506261728838,\n",
       "  0.08045119393978185,\n",
       "  0.07945708982809935,\n",
       "  0.07944149863110964,\n",
       "  0.07946886200143051,\n",
       "  0.07950218405602809,\n",
       "  0.07948777861129445,\n",
       "  0.07947882164789301,\n",
       "  0.07946374005042352,\n",
       "  0.07944857125695133,\n",
       "  0.06458209251537401,\n",
       "  0.06461509409681992,\n",
       "  0.06462803647836055,\n",
       "  0.06464552682788942,\n",
       "  0.06506996235655181,\n",
       "  0.057527924745719675,\n",
       "  0.057572108592715165,\n",
       "  0.057589574727021836,\n",
       "  0.05760720567217233,\n",
       "  0.05769305367260211,\n",
       "  0.05771070553788324,\n",
       "  0.057730968686681594,\n",
       "  0.05774842685929319,\n",
       "  0.058141957014527075,\n",
       "  0.058159650161293666,\n",
       "  0.058116080272026485,\n",
       "  0.058134221680670554,\n",
       "  0.05815243697318166,\n",
       "  0.06099235605405612,\n",
       "  0.12288221509712079,\n",
       "  0.12282790995743478,\n",
       "  0.10720871317156647,\n",
       "  0.10723131900897766,\n",
       "  0.10718751560269778,\n",
       "  0.09702788667040088,\n",
       "  0.09829011145941169,\n",
       "  0.09787460479618595,\n",
       "  0.09868419192208919,\n",
       "  0.09747365243745801,\n",
       "  0.09743804517019684,\n",
       "  0.09648692511952038,\n",
       "  0.09645235205117685,\n",
       "  0.06504255506129229,\n",
       "  0.06293463772439266,\n",
       "  0.0628882494328057,\n",
       "  0.06289162044373435,\n",
       "  0.0628964188523704,\n",
       "  0.06290120546845995,\n",
       "  0.06290581656147906,\n",
       "  0.06289587832304472,\n",
       "  0.06288881473092656,\n",
       "  0.06276400866830173,\n",
       "  0.06276947689470305,\n",
       "  0.0627750600753427,\n",
       "  0.06278074370569124,\n",
       "  0.06278653121616251,\n",
       "  0.06139374271899908,\n",
       "  0.06133276303976211,\n",
       "  0.061304065295185166,\n",
       "  0.0581657507594916,\n",
       "  0.05819242930630514,\n",
       "  0.058219169269882236,\n",
       "  0.05824595347718399,\n",
       "  0.058197783296613056,\n",
       "  0.05822178843994493,\n",
       "  0.07688350553385928,\n",
       "  0.0769233037561224,\n",
       "  0.09027318415765087,\n",
       "  0.09016388748802902,\n",
       "  0.09013604195032414,\n",
       "  0.11071749953479032,\n",
       "  0.10515818502668368,\n",
       "  0.0748352398261299,\n",
       "  0.06633802076552053,\n",
       "  0.06596813070985512,\n",
       "  0.06521302398348776,\n",
       "  0.065069175786275,\n",
       "  0.06370999573086535,\n",
       "  0.06374362280165308,\n",
       "  0.06377734440226115,\n",
       "  0.06371962406637517,\n",
       "  0.06375349474797987,\n",
       "  0.06378668180567164,\n",
       "  0.05793099782364058,\n",
       "  0.05796318129124675,\n",
       "  0.05799535084342863,\n",
       "  0.05802760836709359,\n",
       "  0.05805969644460092,\n",
       "  0.0561178818794234,\n",
       "  0.055950862079413265,\n",
       "  0.04938646268825081,\n",
       "  0.04940649963167403,\n",
       "  0.049284105445034185,\n",
       "  0.04926977342887399,\n",
       "  0.04929081622778079,\n",
       "  0.04930733961219956,\n",
       "  0.04934903080447671,\n",
       "  0.04938533719449328,\n",
       "  0.04940565017876305,\n",
       "  0.050823607417612875,\n",
       "  0.05084492909675769,\n",
       "  0.05088232452978748,\n",
       "  0.050904099796982384,\n",
       "  0.049290437651722495,\n",
       "  0.04736481292715119,\n",
       "  0.04736576873564197,\n",
       "  0.04737570224425668,\n",
       "  0.04738609020862477,\n",
       "  0.04739133558768796,\n",
       "  0.04740184269067614,\n",
       "  0.047262225346101826,\n",
       "  0.04691111478251497,\n",
       "  0.04692191285571839,\n",
       "  0.04693279187563405,\n",
       "  0.04722168468342157,\n",
       "  0.04723075616472285,\n",
       "  0.0520874532982749,\n",
       "  0.051944737982364556,\n",
       "  0.05192014425591753,\n",
       "  0.051933618657340794,\n",
       "  0.0518889351218118,\n",
       "  0.051902511831562394,\n",
       "  0.05191615712163614,\n",
       "  0.05192980607472876,\n",
       "  0.0519272200691932,\n",
       "  0.05258150003648981,\n",
       "  0.052595308261480254,\n",
       "  0.05260931439388077,\n",
       "  0.052623237821928695,\n",
       "  0.07988667661088489,\n",
       "  0.0797474705700888,\n",
       "  0.0797296373380072,\n",
       "  0.07058144439953665,\n",
       "  0.07057731295349746,\n",
       "  0.07073633910003121,\n",
       "  0.07073207509856053,\n",
       "  0.07101455384298133,\n",
       "  0.07107655044192131,\n",
       "  0.0710720217117025,\n",
       "  0.06796423840730018,\n",
       "  0.06796282190892193,\n",
       "  0.06712203417902035,\n",
       "  0.06711609296847058,\n",
       "  0.06809397806755874,\n",
       "  0.06812948790955929,\n",
       "  0.0681280142355775,\n",
       "  0.07721282614425504,\n",
       "  0.07720417641239899,\n",
       "  0.07016367883931585,\n",
       "  0.0701594294244233,\n",
       "  0.07015500004404909,\n",
       "  0.07015281289302328,\n",
       "  0.07017178478224721,\n",
       "  0.07016778670331124,\n",
       "  0.07016391189997133,\n",
       "  0.07015870613065751,\n",
       "  0.06811458020793529,\n",
       "  0.06809851233893356,\n",
       "  0.06809877365902495,\n",
       "  0.06805598981368689,\n",
       "  0.06805691158013705,\n",
       "  0.06336519290088817,\n",
       "  0.06336513167065791,\n",
       "  0.06425857714199304,\n",
       "  0.06425581583143768,\n",
       "  0.06356402622688133,\n",
       "  0.06356152682420357,\n",
       "  0.06990884314360253,\n",
       "  0.06990498889846065,\n",
       "  0.06987838011462921,\n",
       "  0.07095834315512478,\n",
       "  0.07094193767253974,\n",
       "  0.07093616913267269,\n",
       "  0.0709264194232242,\n",
       "  0.07089184338689312,\n",
       "  0.07088708414277144,\n",
       "  0.08090817686259207,\n",
       "  0.08090165108048969,\n",
       "  0.080896099253494,\n",
       "  0.08089338737978935,\n",
       "  0.08075570735317968,\n",
       "  0.08074940319333991,\n",
       "  0.08074332274729278,\n",
       "  0.08073445633304321,\n",
       "  0.04678968619407267,\n",
       "  0.05844192694377117,\n",
       "  0.05844697950463717,\n",
       "  0.058451990775049936,\n",
       "  0.058457072738997654,\n",
       "  0.058462225674020034,\n",
       "  0.058467430869906814,\n",
       "  0.058470249230258405,\n",
       "  0.0584747278698356,\n",
       "  0.05848015122592446,\n",
       "  0.058486878900637806,\n",
       "  0.05849243902219484,\n",
       "  0.058499835486749,\n",
       "  0.05850582168863287,\n",
       "  0.05851064655085889,\n",
       "  0.05851648960362668,\n",
       "  0.05852181633010764,\n",
       "  0.058527800879854756,\n",
       "  0.058533856318719255,\n",
       "  0.05853998285820282,\n",
       "  0.05857686116207645,\n",
       "  0.05858399401437087,\n",
       "  0.09532020831312932,\n",
       "  0.09534417174435715,\n",
       "  0.0788000349923443,\n",
       "  0.07596130996229539,\n",
       "  0.0759805446376325,\n",
       "  0.07420275123538445,\n",
       "  0.0742208370863324,\n",
       "  0.07423920257595604,\n",
       "  0.07420302501921319,\n",
       "  0.0742215959689545,\n",
       "  0.07350625866510718,\n",
       "  0.07352455762885982,\n",
       "  0.07314357009676362,\n",
       "  0.07312787213394888,\n",
       "  0.07294662887845378,\n",
       "  0.07289329210580316,\n",
       "  0.07265464459400402,\n",
       "  0.07363663670611656,\n",
       "  0.07286567232798791,\n",
       "  0.07284357150269066,\n",
       "  0.0728449217626162,\n",
       "  0.07285751445096156,\n",
       "  0.07286345459980892,\n",
       "  0.07287987031557958,\n",
       "  0.0728959495508536,\n",
       "  0.0729127068520939,\n",
       "  0.0729289353474404,\n",
       "  0.07250668256604029,\n",
       "  0.07252162345696934,\n",
       "  0.0724645527843459,\n",
       "  0.0626017020031149,\n",
       "  0.06258938159094822,\n",
       "  0.06257746525042175,\n",
       "  0.06102852772343951,\n",
       "  0.05585382328095591,\n",
       "  0.05595743914441657,\n",
       "  0.05595122506274268,\n",
       "  0.05603542881904042,\n",
       "  0.056040306077689686,\n",
       "  0.05603457825257532,\n",
       "  0.05602840193207479,\n",
       "  0.056028928976800715,\n",
       "  0.056022977188881815,\n",
       "  0.05601699102451659,\n",
       "  0.0560110716975624,\n",
       "  0.056003796728456366,\n",
       "  0.056078242859072557,\n",
       "  0.056072798318339674,\n",
       "  0.056067677844936166,\n",
       "  0.05606193920265321,\n",
       "  0.05604090761454123,\n",
       "  0.056032559511560526,\n",
       "  0.05602701858977384,\n",
       "  0.05605806775026061,\n",
       "  0.05600775171062674,\n",
       "  0.057382914430043265,\n",
       "  0.05737858084628328,\n",
       "  0.05739650561122598,\n",
       "  0.05635041206304919,\n",
       "  0.05634713063271924,\n",
       "  0.05399471951575606,\n",
       "  0.05399293678094434,\n",
       "  0.05392591004440833,\n",
       "  0.05392434895102972,\n",
       "  0.0539228539766061,\n",
       "  0.05438666446511891,\n",
       "  0.05438456601135602,\n",
       "  0.054382770692949355,\n",
       "  0.05438109810823484,\n",
       "  0.05437942485904373,\n",
       "  0.05641245256920885,\n",
       "  0.05641010248261153,\n",
       "  0.056407993002181536,\n",
       "  0.05640577929896101,\n",
       "  0.05640403478698291,\n",
       "  0.05640308886294003,\n",
       "  0.05640108431387312,\n",
       "  0.060755152437836565,\n",
       "  0.060750672346833456,\n",
       "  0.0607462648738732,\n",
       "  0.061212613374331745,\n",
       "  0.06120585390267935,\n",
       "  0.06119866736488682,\n",
       "  0.061191553556537374,\n",
       "  0.061239394854069325,\n",
       "  0.06119956280991615,\n",
       "  0.06119506434752164,\n",
       "  0.061188146811356106,\n",
       "  0.06118115318757953,\n",
       "  0.06036295446283244,\n",
       "  0.06036206622973171,\n",
       "  0.06035921988037396,\n",
       "  0.06019933857552498,\n",
       "  0.060198708652047274,\n",
       "  0.06019763459554744,\n",
       "  0.060196633090234174,\n",
       "  0.06019570623157576,\n",
       "  0.06009595226734227,\n",
       "  0.0600950066530345,\n",
       "  0.06009412915767377,\n",
       "  0.0600933288609324,\n",
       "  ...],\n",
       " array([ 1.14200528, -1.00611721, -0.85267422, -0.14897587, -0.17962157,\n",
       "        -0.28209899,  0.88346522, -0.81880286, -1.69565634,  0.12929989,\n",
       "         0.5024482 , -1.76224129,  0.13565639, -0.49636255, -1.04526723,\n",
       "         0.21675775,  1.50951932, -0.51213407,  0.29262951,  0.0845137 ,\n",
       "         0.73363201, -1.00108016, -0.8523071 , -0.87955365, -1.11552742,\n",
       "        -1.83614819, -0.48546557, -1.70898274, -0.97031203, -0.77720989,\n",
       "        -0.58987143]))"
      ]
     },
     "execution_count": 37,
     "metadata": {},
     "output_type": "execute_result"
    }
   ],
   "source": [
    "clas.loss_, clas.w_"
   ]
  },
  {
   "cell_type": "markdown",
   "metadata": {},
   "source": [
    "Посмотрите на веса модели, при которых ошибка на обучении была минимальна."
   ]
  },
  {
   "cell_type": "markdown",
   "metadata": {},
   "source": [
    "<font color='red'>Вопрос 3.</font> Какой признак сильнее остальных влияет на вероятность того, что опухоль доброкачественна, согласно обученной модели `SGDClassifier`? (будьте внимательны – проверьте длину вектора весов, полученного после обучения, сравните с числом признаков в исходной задаче)\n",
    " - worst compactness\n",
    " - worst smoothness\n",
    " - worst concavity\n",
    " - concave points error\n",
    " - concavity error\n",
    " - compactness error\n",
    " - worst fractal dimension\n",
    " - radius error"
   ]
  },
  {
   "cell_type": "code",
   "execution_count": 44,
   "metadata": {},
   "outputs": [
    {
     "data": {
      "text/plain": [
       "(30, 31)"
      ]
     },
     "execution_count": 44,
     "metadata": {},
     "output_type": "execute_result"
    }
   ],
   "source": [
    "len(cancer2.feature_names), len(clas.w_)"
   ]
  },
  {
   "cell_type": "code",
   "execution_count": 45,
   "metadata": {},
   "outputs": [
    {
     "data": {
      "text/plain": [
       "array(['mean radius', 'mean texture', 'mean perimeter', 'mean area',\n",
       "       'mean smoothness', 'mean compactness', 'mean concavity',\n",
       "       'mean concave points', 'mean symmetry', 'mean fractal dimension',\n",
       "       'radius error', 'texture error', 'perimeter error', 'area error',\n",
       "       'smoothness error', 'compactness error', 'concavity error',\n",
       "       'concave points error', 'symmetry error',\n",
       "       'fractal dimension error', 'worst radius', 'worst texture',\n",
       "       'worst perimeter', 'worst area', 'worst smoothness',\n",
       "       'worst compactness', 'worst concavity', 'worst concave points',\n",
       "       'worst symmetry', 'worst fractal dimension'], dtype='<U23')"
      ]
     },
     "execution_count": 45,
     "metadata": {},
     "output_type": "execute_result"
    }
   ],
   "source": [
    "cancer2.feature_names"
   ]
  },
  {
   "cell_type": "markdown",
   "metadata": {},
   "source": [
    "Посчитайте log_loss и ROC AUC на отложенной выборке, проделайте все то же с `sklearn.linear_model.LogisticRegression` (параметры по умолчанию, только random_state=17) и сравните результаты."
   ]
  },
  {
   "cell_type": "code",
   "execution_count": 50,
   "metadata": {},
   "outputs": [],
   "source": [
    "log_loss?"
   ]
  },
  {
   "cell_type": "code",
   "execution_count": 56,
   "metadata": {},
   "outputs": [
    {
     "data": {
      "text/plain": [
       "1.2119055950829531"
      ]
     },
     "execution_count": 56,
     "metadata": {},
     "output_type": "execute_result"
    }
   ],
   "source": [
    "log_loss(y_valid, pred)"
   ]
  },
  {
   "cell_type": "code",
   "execution_count": 57,
   "metadata": {},
   "outputs": [
    {
     "data": {
      "text/plain": [
       "0.9581222056631894"
      ]
     },
     "execution_count": 57,
     "metadata": {},
     "output_type": "execute_result"
    }
   ],
   "source": [
    "roc_auc_score(y_valid, pred)"
   ]
  },
  {
   "cell_type": "code",
   "execution_count": 52,
   "metadata": {},
   "outputs": [],
   "source": [
    "from sklearn.linear_model import LogisticRegression"
   ]
  },
  {
   "cell_type": "code",
   "execution_count": 58,
   "metadata": {},
   "outputs": [],
   "source": [
    "logl = LogisticRegression(random_state=17)\n",
    "logl.fit(X_train_scaled, y_train)\n",
    "pred_2 = logl.predict(X_valid_scaled)"
   ]
  },
  {
   "cell_type": "code",
   "execution_count": 63,
   "metadata": {},
   "outputs": [
    {
     "name": "stdout",
     "output_type": "stream",
     "text": [
      "CPU times: total: 0 ns\n",
      "Wall time: 0 ns\n"
     ]
    },
    {
     "data": {
      "text/plain": [
       "0.8079432980664542"
      ]
     },
     "execution_count": 63,
     "metadata": {},
     "output_type": "execute_result"
    }
   ],
   "source": [
    "%%time\n",
    "log_loss(y_valid, pred_2)"
   ]
  },
  {
   "cell_type": "code",
   "execution_count": 60,
   "metadata": {},
   "outputs": [
    {
     "data": {
      "text/plain": [
       "0.9672131147540984"
      ]
     },
     "execution_count": 60,
     "metadata": {},
     "output_type": "execute_result"
    }
   ],
   "source": [
    "roc_auc_score(y_valid, pred_2)"
   ]
  },
  {
   "cell_type": "markdown",
   "metadata": {},
   "source": [
    "## 3. Логистическая регрессия и SGDClassifier в задаче классификации отзывов к фильмам"
   ]
  },
  {
   "cell_type": "markdown",
   "metadata": {},
   "source": [
    "Теперь посмотрим на логистическую регрессию и ее же версию, но обучаемую стохастическим градиентным спуском, в задаче классификации отзывов IMDB. С этой задачей мы знакомы по 4 и 8 темам курса. Данные можно скачать [отсюда](https://drive.google.com/open?id=1xq4l5c0JrcxJdyBwJWvy0u9Ad_pvkJ1l).\n",
    "\n",
    "Импортируем файлы, и обучим на имеющихся данных `CountVectorizer`"
   ]
  },
  {
   "cell_type": "code",
   "execution_count": 64,
   "metadata": {},
   "outputs": [],
   "source": [
    "import tensorflow as tf"
   ]
  },
  {
   "cell_type": "code",
   "execution_count": 73,
   "metadata": {},
   "outputs": [],
   "source": [
    "train, test = tf.keras.datasets.imdb.load_data()"
   ]
  },
  {
   "cell_type": "code",
   "execution_count": 76,
   "metadata": {},
   "outputs": [],
   "source": [
    "dataset = tf.data.Dataset.from_tensor_slices([1, 2, 3])"
   ]
  },
  {
   "cell_type": "code",
   "execution_count": 78,
   "metadata": {},
   "outputs": [
    {
     "name": "stdout",
     "output_type": "stream",
     "text": [
      "tf.Tensor(1, shape=(), dtype=int32)\n",
      "tf.Tensor(2, shape=(), dtype=int32)\n",
      "tf.Tensor(3, shape=(), dtype=int32)\n"
     ]
    }
   ],
   "source": [
    "for element in dataset:\n",
    "    print(element)"
   ]
  },
  {
   "cell_type": "code",
   "execution_count": 70,
   "metadata": {},
   "outputs": [],
   "source": [
    "train = pd.DataFrame(train)"
   ]
  },
  {
   "cell_type": "code",
   "execution_count": 61,
   "metadata": {},
   "outputs": [],
   "source": [
    "from sklearn.datasets import load_files\n",
    "from sklearn.feature_extraction.text import CountVectorizer\n",
    "from sklearn.linear_model import SGDClassifier"
   ]
  },
  {
   "cell_type": "code",
   "execution_count": 71,
   "metadata": {},
   "outputs": [
    {
     "ename": "AttributeError",
     "evalue": "'DataFrame' object has no attribute 'data'",
     "output_type": "error",
     "traceback": [
      "\u001b[1;31m---------------------------------------------------------------------------\u001b[0m",
      "\u001b[1;31mAttributeError\u001b[0m                            Traceback (most recent call last)",
      "Input \u001b[1;32mIn [71]\u001b[0m, in \u001b[0;36m<cell line: 1>\u001b[1;34m()\u001b[0m\n\u001b[1;32m----> 1\u001b[0m text_train, y_train \u001b[38;5;241m=\u001b[39m \u001b[43mtrain\u001b[49m\u001b[38;5;241;43m.\u001b[39;49m\u001b[43mdata\u001b[49m, train\u001b[38;5;241m.\u001b[39mtarget\n",
      "File \u001b[1;32mc:\\program files\\python38\\lib\\site-packages\\pandas\\core\\generic.py:5575\u001b[0m, in \u001b[0;36mNDFrame.__getattr__\u001b[1;34m(self, name)\u001b[0m\n\u001b[0;32m   5568\u001b[0m \u001b[38;5;28;01mif\u001b[39;00m (\n\u001b[0;32m   5569\u001b[0m     name \u001b[38;5;129;01mnot\u001b[39;00m \u001b[38;5;129;01min\u001b[39;00m \u001b[38;5;28mself\u001b[39m\u001b[38;5;241m.\u001b[39m_internal_names_set\n\u001b[0;32m   5570\u001b[0m     \u001b[38;5;129;01mand\u001b[39;00m name \u001b[38;5;129;01mnot\u001b[39;00m \u001b[38;5;129;01min\u001b[39;00m \u001b[38;5;28mself\u001b[39m\u001b[38;5;241m.\u001b[39m_metadata\n\u001b[0;32m   5571\u001b[0m     \u001b[38;5;129;01mand\u001b[39;00m name \u001b[38;5;129;01mnot\u001b[39;00m \u001b[38;5;129;01min\u001b[39;00m \u001b[38;5;28mself\u001b[39m\u001b[38;5;241m.\u001b[39m_accessors\n\u001b[0;32m   5572\u001b[0m     \u001b[38;5;129;01mand\u001b[39;00m \u001b[38;5;28mself\u001b[39m\u001b[38;5;241m.\u001b[39m_info_axis\u001b[38;5;241m.\u001b[39m_can_hold_identifiers_and_holds_name(name)\n\u001b[0;32m   5573\u001b[0m ):\n\u001b[0;32m   5574\u001b[0m     \u001b[38;5;28;01mreturn\u001b[39;00m \u001b[38;5;28mself\u001b[39m[name]\n\u001b[1;32m-> 5575\u001b[0m \u001b[38;5;28;01mreturn\u001b[39;00m \u001b[38;5;28;43mobject\u001b[39;49m\u001b[38;5;241;43m.\u001b[39;49m\u001b[38;5;21;43m__getattribute__\u001b[39;49m\u001b[43m(\u001b[49m\u001b[38;5;28;43mself\u001b[39;49m\u001b[43m,\u001b[49m\u001b[43m \u001b[49m\u001b[43mname\u001b[49m\u001b[43m)\u001b[49m\n",
      "\u001b[1;31mAttributeError\u001b[0m: 'DataFrame' object has no attribute 'data'"
     ]
    }
   ],
   "source": [
    "text_train, y_train = train.data, train.target"
   ]
  },
  {
   "cell_type": "code",
   "execution_count": null,
   "metadata": {},
   "outputs": [],
   "source": [
    "reviews_test = load_files(\n",
    "    \"/Users/y.kashnitsky/Documents/Machine_learning/datasets/imdb_reviews/test\"\n",
    ")\n",
    "text_test, y_test = reviews_test.data, reviews_test.target"
   ]
  },
  {
   "cell_type": "markdown",
   "metadata": {},
   "source": [
    "Обучим на имеющихся данных `CountVectorizer`, считая биграммы, то есть перейдем к разреженному представлению данных, где каждому уникальному слову и паре подряд идущих слов в обучающей выборке соответсвует признак. Всего таких признаков получается более 1.5 млн."
   ]
  },
  {
   "cell_type": "code",
   "execution_count": null,
   "metadata": {},
   "outputs": [],
   "source": [
    "%%time\n",
    "cv = CountVectorizer(ngram_range=(1, 2))\n",
    "X_train = cv.fit_transform(text_train)\n",
    "X_test = cv.transform(text_test)"
   ]
  },
  {
   "cell_type": "code",
   "execution_count": null,
   "metadata": {},
   "outputs": [],
   "source": [
    "X_train.shape, X_test.shape"
   ]
  },
  {
   "cell_type": "markdown",
   "metadata": {},
   "source": [
    "Обучите на выборке `(X_train, y_train)` логистическую регрессию с параметрами по умолчанию (только укажите `random_state`=17) и посчитайте ROC AUC на тестовой выборке. Замерьте время обучения модели. Данные можно не масштабировать, так как признаки – по сути, счетчики, и они уже все измеряются примерно в одном диапазоне."
   ]
  },
  {
   "cell_type": "code",
   "execution_count": null,
   "metadata": {},
   "outputs": [],
   "source": [
    "%%time\n",
    "lr = LogisticRegression(random_state=17)\n",
    "lr.fit(X_train, y_train)\n",
    "pred = logl.predict(X_test)\n",
    "roc_auc_score(y_test, pred)"
   ]
  },
  {
   "cell_type": "markdown",
   "metadata": {},
   "source": [
    "Теперь перейдем к онлайн-алгоритму. Мы написали свой `SGDClassifier` и принцип его работы поняли, надо еще немного постараться, чтобы сделать его эффективным, например, сделать поддержку разреженных данных. Но мы теперь перейдем к `sklearn`-реализации SGD-алгоритма. Прочитайте документацию [SGDClassifier](http://scikit-learn.org/stable/modules/generated/sklearn.linear_model.SGDClassifier.html), сделайте выводы, чем `SGDClassifier` из `Sklearn` более продвинут, чем наша реализация SGD-классификатора. "
   ]
  }
 ],
 "metadata": {
  "kernelspec": {
   "display_name": "Python 3 (ipykernel)",
   "language": "python",
   "name": "python3"
  },
  "language_info": {
   "codemirror_mode": {
    "name": "ipython",
    "version": 3
   },
   "file_extension": ".py",
   "mimetype": "text/x-python",
   "name": "python",
   "nbconvert_exporter": "python",
   "pygments_lexer": "ipython3",
   "version": "3.8.2"
  }
 },
 "nbformat": 4,
 "nbformat_minor": 2
}
