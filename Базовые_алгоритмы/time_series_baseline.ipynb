{
 "cells": [
  {
   "cell_type": "code",
   "execution_count": 1,
   "id": "685330cc",
   "metadata": {},
   "outputs": [],
   "source": [
    "import pandas as pd\n",
    "import numpy as np\n",
    "import matplotlib.pyplot as plt\n",
    "from functools import reduce\n",
    "from statsmodels.graphics.tsaplots import plot_acf\n",
    "from statsmodels.tsa.seasonal import seasonal_decompose\n",
    "from matplotlib import pyplot"
   ]
  },
  {
   "cell_type": "code",
   "execution_count": 2,
   "id": "4976b283",
   "metadata": {},
   "outputs": [],
   "source": [
    "births = pd.read_csv('C:/Users/GVL/Desktop/Паша/Datasets/Time_Series_Datasets-main/births.csv', parse_dates = True)"
   ]
  },
  {
   "cell_type": "code",
   "execution_count": 3,
   "id": "d5423367",
   "metadata": {
    "scrolled": false
   },
   "outputs": [
    {
     "data": {
      "text/html": [
       "<div>\n",
       "<style scoped>\n",
       "    .dataframe tbody tr th:only-of-type {\n",
       "        vertical-align: middle;\n",
       "    }\n",
       "\n",
       "    .dataframe tbody tr th {\n",
       "        vertical-align: top;\n",
       "    }\n",
       "\n",
       "    .dataframe thead th {\n",
       "        text-align: right;\n",
       "    }\n",
       "</style>\n",
       "<table border=\"1\" class=\"dataframe\">\n",
       "  <thead>\n",
       "    <tr style=\"text-align: right;\">\n",
       "      <th></th>\n",
       "      <th>Date</th>\n",
       "      <th>Births</th>\n",
       "    </tr>\n",
       "  </thead>\n",
       "  <tbody>\n",
       "    <tr>\n",
       "      <th>0</th>\n",
       "      <td>1959-01-01</td>\n",
       "      <td>35</td>\n",
       "    </tr>\n",
       "    <tr>\n",
       "      <th>1</th>\n",
       "      <td>1959-01-02</td>\n",
       "      <td>32</td>\n",
       "    </tr>\n",
       "    <tr>\n",
       "      <th>2</th>\n",
       "      <td>1959-01-03</td>\n",
       "      <td>30</td>\n",
       "    </tr>\n",
       "    <tr>\n",
       "      <th>3</th>\n",
       "      <td>1959-01-04</td>\n",
       "      <td>31</td>\n",
       "    </tr>\n",
       "    <tr>\n",
       "      <th>4</th>\n",
       "      <td>1959-01-05</td>\n",
       "      <td>44</td>\n",
       "    </tr>\n",
       "  </tbody>\n",
       "</table>\n",
       "</div>"
      ],
      "text/plain": [
       "         Date  Births\n",
       "0  1959-01-01      35\n",
       "1  1959-01-02      32\n",
       "2  1959-01-03      30\n",
       "3  1959-01-04      31\n",
       "4  1959-01-05      44"
      ]
     },
     "execution_count": 3,
     "metadata": {},
     "output_type": "execute_result"
    }
   ],
   "source": [
    "births.head()"
   ]
  },
  {
   "cell_type": "code",
   "execution_count": 4,
   "id": "db26f78b",
   "metadata": {},
   "outputs": [
    {
     "data": {
      "text/plain": [
       "(365, 2)"
      ]
     },
     "execution_count": 4,
     "metadata": {},
     "output_type": "execute_result"
    }
   ],
   "source": [
    "births.shape"
   ]
  },
  {
   "cell_type": "code",
   "execution_count": 6,
   "id": "e7534b7c",
   "metadata": {},
   "outputs": [],
   "source": [
    "y = births['Births'].tolist()"
   ]
  },
  {
   "cell_type": "code",
   "execution_count": 7,
   "id": "3ff37865",
   "metadata": {},
   "outputs": [
    {
     "data": {
      "text/plain": [
       "41.98082191780822"
      ]
     },
     "execution_count": 7,
     "metadata": {},
     "output_type": "execute_result"
    }
   ],
   "source": [
    "y_mean = sum(y) / len(y)\n",
    "y_mean"
   ]
  },
  {
   "cell_type": "code",
   "execution_count": 8,
   "id": "2c7eb453",
   "metadata": {},
   "outputs": [
    {
     "data": {
      "text/plain": [
       "7.3482572041253285"
      ]
     },
     "execution_count": 8,
     "metadata": {},
     "output_type": "execute_result"
    }
   ],
   "source": [
    "sigma = np.sqrt(reduce(lambda x, y:x+y, list(map(lambda x: (x - y_mean) ** 2, y))) / (len(y) - 1))\n",
    "sigma"
   ]
  },
  {
   "cell_type": "code",
   "execution_count": 9,
   "id": "ef72549c",
   "metadata": {},
   "outputs": [
    {
     "data": {
      "text/plain": [
       "'\\nПороговое значения теста Ирвина для n > 100 = 1\\n'"
      ]
     },
     "execution_count": 9,
     "metadata": {},
     "output_type": "execute_result"
    }
   ],
   "source": [
    "'''\n",
    "Пороговое значения теста Ирвина для n > 100 = 1\n",
    "'''"
   ]
  },
  {
   "cell_type": "code",
   "execution_count": 10,
   "id": "3657d407",
   "metadata": {},
   "outputs": [],
   "source": [
    "y_new = []\n",
    "y_new.append(y[0])\n",
    "out = []\n",
    "lambd = 1\n",
    "for i in range(1, len(y)):\n",
    "    if abs(y[i] - y[i - 1]) / sigma > lambd:\n",
    "        out.append(i)\n",
    "    else:\n",
    "        y_new.append(i)   "
   ]
  },
  {
   "cell_type": "code",
   "execution_count": 11,
   "id": "6b181586",
   "metadata": {},
   "outputs": [],
   "source": [
    "births = pd.read_csv('C:/Users/GVL/Desktop/Паша/Datasets/Time_Series_Datasets-main/births.csv', index_col = 'Date', parse_dates = True)"
   ]
  },
  {
   "cell_type": "code",
   "execution_count": 12,
   "id": "206ed7ce",
   "metadata": {},
   "outputs": [],
   "source": [
    "births = births.iloc[y_new]"
   ]
  },
  {
   "cell_type": "code",
   "execution_count": 13,
   "id": "c240eb91",
   "metadata": {},
   "outputs": [],
   "source": [
    "births?"
   ]
  },
  {
   "cell_type": "code",
   "execution_count": 14,
   "id": "9e455010",
   "metadata": {},
   "outputs": [],
   "source": [
    "births.to_csv('C:/Users/GVL/Desktop/Паша/Datasets/Time_Series_Datasets-main/my_data.csv', index= False)"
   ]
  },
  {
   "cell_type": "code",
   "execution_count": 15,
   "id": "cc24517e",
   "metadata": {},
   "outputs": [],
   "source": [
    "births.to_csv('C:/Users/GVL/Desktop/Паша/Datasets/Time_Series_Datasets-main/my_data_time.csv', index=True)"
   ]
  },
  {
   "cell_type": "code",
   "execution_count": 27,
   "id": "1324dc2f",
   "metadata": {},
   "outputs": [
    {
     "data": {
      "image/png": "[encoded data removed]",
      "text/plain": [
       "<Figure size 432x288 with 1 Axes>"
      ]
     },
     "metadata": {
      "needs_background": "light"
     },
     "output_type": "display_data"
    }
   ],
   "source": [
    "plot_acf(births)\n",
    "plt.show()"
   ]
  },
  {
   "cell_type": "code",
   "execution_count": 13,
   "id": "63af09ba",
   "metadata": {},
   "outputs": [
    {
     "data": {
      "text/plain": [
       "'\\nНа графике отчётливо видно отсутсвие сезонности а также тренда\\nhttps://habr.com/ru/companies/tinkoff/articles/677186/\\n'"
      ]
     },
     "execution_count": 13,
     "metadata": {},
     "output_type": "execute_result"
    }
   ],
   "source": [
    "'''\n",
    "На графике отчётливо видно отсутсвие сезонности а также тренда\n",
    "https://habr.com/ru/companies/tinkoff/articles/677186/\n",
    "'''"
   ]
  },
  {
   "cell_type": "code",
   "execution_count": 14,
   "id": "837d8cd2",
   "metadata": {},
   "outputs": [
    {
     "data": {
      "text/plain": [
       "'\\nБудем строить аддитивную модель временного ряда, т.к. Аддитивная модель используется, \\nкогда дисперсия временного ряда не изменяется при различных значениях временного ряда.\\nИсходя из самих наших данных и анализу автокорреляций можно сделать вывод, что так и есть\\n'"
      ]
     },
     "execution_count": 14,
     "metadata": {},
     "output_type": "execute_result"
    }
   ],
   "source": [
    "'''\n",
    "Будем строить аддитивную модель временного ряда, т.к. Аддитивная модель используется, \n",
    "когда дисперсия временного ряда не изменяется при различных значениях временного ряда.\n",
    "Исходя из самих наших данных и анализу автокорреляций можно сделать вывод, что так и есть\n",
    "'''"
   ]
  },
  {
   "cell_type": "code",
   "execution_count": null,
   "id": "b018f0b1",
   "metadata": {},
   "outputs": [],
   "source": [
    "'''\n",
    "Осталось произвести декомпозицию очищенного от выброса датасета. \n",
    "Мы помним, что значение временного ряда - y(t) = Level + Trend + Seasonality + Noise \n",
    "значит, для того, чтобы найти сезонное значение, нужно из значения вычесть среднее, вычесть значения шума и тренда.\n",
    "Это мы и произведем с помощью библиотеки statsmodels : проведем декомпозицию временного ряда вполне коротким кодом. \n",
    "Здесь важно правильно назначить частоту freq, у нас в данных 1 цикла (1 год) по 12 месяцев, частота будет равняться 12:\n",
    "'''"
   ]
  },
  {
   "cell_type": "code",
   "execution_count": 14,
   "id": "24bad37f",
   "metadata": {},
   "outputs": [],
   "source": [
    "seasonal_decompose?"
   ]
  },
  {
   "cell_type": "code",
   "execution_count": 15,
   "id": "d97827f7",
   "metadata": {},
   "outputs": [
    {
     "data": {
      "image/png": "[encoded data removed]",
      "text/plain": [
       "<Figure size 432x288 with 4 Axes>"
      ]
     },
     "metadata": {
      "needs_background": "light"
     },
     "output_type": "display_data"
    }
   ],
   "source": [
    "decompose = seasonal_decompose(births, period=12)\n",
    "decompose.plot()\n",
    " \n",
    "plt.show()"
   ]
  },
  {
   "cell_type": "code",
   "execution_count": 20,
   "id": "2ea29e73",
   "metadata": {
    "scrolled": true
   },
   "outputs": [
    {
     "data": {
      "image/png": "[encoded data removed]",
      "text/plain": [
       "<Figure size 432x288 with 1 Axes>"
      ]
     },
     "metadata": {
      "needs_background": "light"
     },
     "output_type": "display_data"
    }
   ],
   "source": [
    "births.plot()\n",
    "pyplot.show()"
   ]
  },
  {
   "cell_type": "code",
   "execution_count": 32,
   "id": "0d56b68e",
   "metadata": {},
   "outputs": [],
   "source": [
    "data = births['Births'].tolist()"
   ]
  },
  {
   "cell_type": "code",
   "execution_count": null,
   "id": "b855861b",
   "metadata": {},
   "outputs": [],
   "source": [
    "'''\n",
    "Для нахождения уравнения тренда используем полиномиальную аппроксимацию функцией polyfit\n",
    "\n",
    "'''"
   ]
  },
  {
   "cell_type": "code",
   "execution_count": 40,
   "id": "8f2aee36",
   "metadata": {},
   "outputs": [
    {
     "name": "stdout",
     "output_type": "stream",
     "text": [
      "41.030567685589475\n",
      "0.03324573061664978 37.24055439529145\n",
      "-0.00010061366227312082 0.05618564561492162 36.372660944523474\n",
      "-4.166560142918495e-06 0.0013243499066050064 -0.07348687246501719 38.809443644876374\n",
      "1.9145923306152022e-08 -1.2897101170523919e-05 0.00260214062266192 -0.1378989333364709 39.529273634552105\n",
      "1.1662468834523613e-09 -6.45614800261696e-07 0.0001216819579454619 -0.008866976141054196 0.23242105365184887 36.80098926331386\n",
      "1.2430735270649965e-11 -7.336376041672243e-09 1.5554446411043996e-06 -0.00014533389708467826 0.006270974565110788 -0.10824663702058182 38.56958832096775\n"
     ]
    }
   ],
   "source": [
    "for i in range(7):\n",
    "    x = np.arange(0,len(y))\n",
    "    y=np.array(data)\n",
    "    z = np.polyfit(x,y,i)\n",
    "    print(*z)"
   ]
  },
  {
   "cell_type": "code",
   "execution_count": null,
   "id": "ae0308de",
   "metadata": {},
   "outputs": [],
   "source": [
    "'''\n",
    "Как можно заметить линейная подгонка ax+b имеет значимые коэффициенты её и будем использовать\n",
    "0.03324573061664978x + 37.24055439529145\n",
    "'''"
   ]
  },
  {
   "cell_type": "code",
   "execution_count": null,
   "id": "6d53c220",
   "metadata": {},
   "outputs": [],
   "source": []
  },
  {
   "cell_type": "code",
   "execution_count": null,
   "id": "8e257c70",
   "metadata": {},
   "outputs": [],
   "source": []
  },
  {
   "cell_type": "code",
   "execution_count": null,
   "id": "b7f1feea",
   "metadata": {},
   "outputs": [],
   "source": []
  },
  {
   "cell_type": "code",
   "execution_count": null,
   "id": "4caed445",
   "metadata": {},
   "outputs": [],
   "source": [
    "\"\"\"\n",
    "Критерий Фишера\n",
    "https://math.semestr.ru/corel/fisher.php\n",
    "\"\"\""
   ]
  },
  {
   "cell_type": "code",
   "execution_count": 56,
   "id": "b6738a29",
   "metadata": {},
   "outputs": [
    {
     "data": {
      "text/plain": [
       "41.03056768558952"
      ]
     },
     "execution_count": 56,
     "metadata": {},
     "output_type": "execute_result"
    }
   ],
   "source": [
    "data_mean = sum(data) / len(data)\n",
    "data_mean"
   ]
  },
  {
   "cell_type": "code",
   "execution_count": 78,
   "id": "111db8de",
   "metadata": {},
   "outputs": [],
   "source": [
    "r_2_1 = reduce(lambda x, y:x+y, list(map(lambda x: ((0.03324573061664978 * x + 37.24055439529145) - x) ** 2, data))) \n",
    "r_2_1"
   ]
  },
  {
   "cell_type": "code",
   "execution_count": 80,
   "id": "d3580f43",
   "metadata": {},
   "outputs": [],
   "source": [
    "r_2_2 = reduce(lambda x, y:x+y, list(map(lambda x: ((0.03324573061664978 * x + 37.24055439529145) - data_mean) ** 2, data))) \n",
    "r_2_2"
   ]
  },
  {
   "cell_type": "code",
   "execution_count": 93,
   "id": "3351d51d",
   "metadata": {},
   "outputs": [
    {
     "data": {
      "text/plain": [
       "0.9195527382839781"
      ]
     },
     "execution_count": 93,
     "metadata": {},
     "output_type": "execute_result"
    }
   ],
   "source": [
    "a = (r_2_1 - r_2_2) / r_2_1\n",
    "np.sqrt(a) #Связь очень высокая прям пиздец какая высокая"
   ]
  },
  {
   "cell_type": "code",
   "execution_count": 97,
   "id": "37f1c8c4",
   "metadata": {},
   "outputs": [
    {
     "data": {
      "text/plain": [
       "191.10045589773705"
      ]
     },
     "execution_count": 97,
     "metadata": {},
     "output_type": "execute_result"
    }
   ],
   "source": [
    "F = (1 - r_2_2 / r_2_1) * (len(data) - 2 - 1) / 1\n",
    "F"
   ]
  },
  {
   "cell_type": "code",
   "execution_count": 90,
   "id": "d7e7303a",
   "metadata": {},
   "outputs": [
    {
     "data": {
      "text/plain": [
       "227"
      ]
     },
     "execution_count": 90,
     "metadata": {},
     "output_type": "execute_result"
    }
   ],
   "source": [
    "len(data) - 2 #количество степеней свободы"
   ]
  },
  {
   "cell_type": "code",
   "execution_count": null,
   "id": "27a95884",
   "metadata": {},
   "outputs": [],
   "source": [
    "'''\n",
    "F > F_tabl(1, 227) \n",
    "Поскольку фактическое значение F > Fтабл, то найденная оценка уравнения регрессии статистически надежна.\n",
    "https://www.chem-astu.ru/science/reference/fischer.html\n",
    "\n",
    "'''"
   ]
  },
  {
   "cell_type": "code",
   "execution_count": null,
   "id": "33452068",
   "metadata": {},
   "outputs": [],
   "source": [
    "#Критерий Стьюдента"
   ]
  },
  {
   "cell_type": "code",
   "execution_count": 99,
   "id": "3da86f30",
   "metadata": {},
   "outputs": [
    {
     "data": {
      "text/plain": [
       "5.946342900501531"
      ]
     },
     "execution_count": 99,
     "metadata": {},
     "output_type": "execute_result"
    }
   ],
   "source": [
    "sigma_y = np.sqrt(r_2_1 / len(data) - 2 - 1)\n",
    "sigma_y"
   ]
  },
  {
   "cell_type": "code",
   "execution_count": 108,
   "id": "6c4f3da4",
   "metadata": {},
   "outputs": [
    {
     "data": {
      "text/plain": [
       "5.894556005962398"
      ]
     },
     "execution_count": 108,
     "metadata": {},
     "output_type": "execute_result"
    }
   ],
   "source": [
    "x_mean = sum(data) / len(data)\n",
    "sigma_x = np.sqrt(reduce(lambda x, y:x+y, list(map(lambda x: (x - x_mean) ** 2, data))) / (len(data)))\n",
    "sigma_x"
   ]
  },
  {
   "cell_type": "code",
   "execution_count": 110,
   "id": "4f38ca31",
   "metadata": {},
   "outputs": [
    {
     "data": {
      "text/plain": [
       "2.763278768264504"
      ]
     },
     "execution_count": 110,
     "metadata": {},
     "output_type": "execute_result"
    }
   ],
   "source": [
    "sigma_a = sigma_y / sigma_x / len(data) * np.sqrt(reduce(lambda x, y:x+y, list(map(lambda x: x ** 2, data))))\n",
    "sigma_a"
   ]
  },
  {
   "cell_type": "code",
   "execution_count": 112,
   "id": "d22402e9",
   "metadata": {},
   "outputs": [
    {
     "data": {
      "text/plain": [
       "0.06666242528463215"
      ]
     },
     "execution_count": 112,
     "metadata": {},
     "output_type": "execute_result"
    }
   ],
   "source": [
    "sigma_b = sigma_y / sigma_x / np.sqrt(len(data))\n",
    "sigma_b"
   ]
  },
  {
   "cell_type": "code",
   "execution_count": 113,
   "id": "ea1e913b",
   "metadata": {},
   "outputs": [],
   "source": [
    "t_b = 37.24055439529145 / sigma_b\n",
    "t_a = 0.03324573061664978 / sigma_a"
   ]
  },
  {
   "cell_type": "code",
   "execution_count": null,
   "id": "f7c52c27",
   "metadata": {},
   "outputs": [],
   "source": [
    "#Кэффициенты значимы"
   ]
  },
  {
   "cell_type": "code",
   "execution_count": null,
   "id": "701b797d",
   "metadata": {},
   "outputs": [],
   "source": [
    "\"\"\"\n",
    "Во всех тестах уровень значимости alpha = 0.05\n",
    "\"\"\""
   ]
  },
  {
   "cell_type": "code",
   "execution_count": null,
   "id": "138535df",
   "metadata": {},
   "outputs": [],
   "source": []
  },
  {
   "cell_type": "code",
   "execution_count": null,
   "id": "d366cae4",
   "metadata": {},
   "outputs": [],
   "source": [
    "#Тест Дарбина-Уотсона"
   ]
  },
  {
   "cell_type": "code",
   "execution_count": 143,
   "id": "28b9087e",
   "metadata": {},
   "outputs": [],
   "source": [
    "a = []\n",
    "b = []\n",
    "c = []\n",
    "for i in range(len(data)):\n",
    "    a.append(0.03324573061664978)\n",
    "    b.append(37.24055439529145)\n",
    "    c.append(-0.00010061366227312082)\n"
   ]
  },
  {
   "cell_type": "code",
   "execution_count": 144,
   "id": "ab8f8801",
   "metadata": {},
   "outputs": [
    {
     "name": "stderr",
     "output_type": "stream",
     "text": [
      "C:\\Users\\GVL\\AppData\\Local\\Temp\\ipykernel_12272\\1408140687.py:1: SettingWithCopyWarning: \n",
      "A value is trying to be set on a copy of a slice from a DataFrame.\n",
      "Try using .loc[row_indexer,col_indexer] = value instead\n",
      "\n",
      "See the caveats in the documentation: https://pandas.pydata.org/pandas-docs/stable/user_guide/indexing.html#returning-a-view-versus-a-copy\n",
      "  births[\"a\"] = a\n",
      "C:\\Users\\GVL\\AppData\\Local\\Temp\\ipykernel_12272\\1408140687.py:2: SettingWithCopyWarning: \n",
      "A value is trying to be set on a copy of a slice from a DataFrame.\n",
      "Try using .loc[row_indexer,col_indexer] = value instead\n",
      "\n",
      "See the caveats in the documentation: https://pandas.pydata.org/pandas-docs/stable/user_guide/indexing.html#returning-a-view-versus-a-copy\n",
      "  births[\"b\"] = b\n",
      "C:\\Users\\GVL\\AppData\\Local\\Temp\\ipykernel_12272\\1408140687.py:3: SettingWithCopyWarning: \n",
      "A value is trying to be set on a copy of a slice from a DataFrame.\n",
      "Try using .loc[row_indexer,col_indexer] = value instead\n",
      "\n",
      "See the caveats in the documentation: https://pandas.pydata.org/pandas-docs/stable/user_guide/indexing.html#returning-a-view-versus-a-copy\n",
      "  births[\"c\"] = c\n"
     ]
    }
   ],
   "source": [
    "births[\"a\"] = a\n",
    "births[\"b\"] = b\n",
    "births[\"c\"] = c"
   ]
  },
  {
   "cell_type": "code",
   "execution_count": 145,
   "id": "edb50d9d",
   "metadata": {},
   "outputs": [
    {
     "data": {
      "text/html": [
       "<div>\n",
       "<style scoped>\n",
       "    .dataframe tbody tr th:only-of-type {\n",
       "        vertical-align: middle;\n",
       "    }\n",
       "\n",
       "    .dataframe tbody tr th {\n",
       "        vertical-align: top;\n",
       "    }\n",
       "\n",
       "    .dataframe thead th {\n",
       "        text-align: right;\n",
       "    }\n",
       "</style>\n",
       "<table border=\"1\" class=\"dataframe\">\n",
       "  <thead>\n",
       "    <tr style=\"text-align: right;\">\n",
       "      <th></th>\n",
       "      <th>Births</th>\n",
       "      <th>a</th>\n",
       "      <th>b</th>\n",
       "      <th>c</th>\n",
       "    </tr>\n",
       "    <tr>\n",
       "      <th>Date</th>\n",
       "      <th></th>\n",
       "      <th></th>\n",
       "      <th></th>\n",
       "      <th></th>\n",
       "    </tr>\n",
       "  </thead>\n",
       "  <tbody>\n",
       "    <tr>\n",
       "      <th>1959-02-05</th>\n",
       "      <td>50</td>\n",
       "      <td>0.033246</td>\n",
       "      <td>37.240554</td>\n",
       "      <td>-0.000101</td>\n",
       "    </tr>\n",
       "    <tr>\n",
       "      <th>1959-01-02</th>\n",
       "      <td>32</td>\n",
       "      <td>0.033246</td>\n",
       "      <td>37.240554</td>\n",
       "      <td>-0.000101</td>\n",
       "    </tr>\n",
       "    <tr>\n",
       "      <th>1959-01-03</th>\n",
       "      <td>30</td>\n",
       "      <td>0.033246</td>\n",
       "      <td>37.240554</td>\n",
       "      <td>-0.000101</td>\n",
       "    </tr>\n",
       "    <tr>\n",
       "      <th>1959-01-04</th>\n",
       "      <td>31</td>\n",
       "      <td>0.033246</td>\n",
       "      <td>37.240554</td>\n",
       "      <td>-0.000101</td>\n",
       "    </tr>\n",
       "    <tr>\n",
       "      <th>1959-01-08</th>\n",
       "      <td>43</td>\n",
       "      <td>0.033246</td>\n",
       "      <td>37.240554</td>\n",
       "      <td>-0.000101</td>\n",
       "    </tr>\n",
       "    <tr>\n",
       "      <th>...</th>\n",
       "      <td>...</td>\n",
       "      <td>...</td>\n",
       "      <td>...</td>\n",
       "      <td>...</td>\n",
       "    </tr>\n",
       "    <tr>\n",
       "      <th>1959-12-25</th>\n",
       "      <td>44</td>\n",
       "      <td>0.033246</td>\n",
       "      <td>37.240554</td>\n",
       "      <td>-0.000101</td>\n",
       "    </tr>\n",
       "    <tr>\n",
       "      <th>1959-12-27</th>\n",
       "      <td>37</td>\n",
       "      <td>0.033246</td>\n",
       "      <td>37.240554</td>\n",
       "      <td>-0.000101</td>\n",
       "    </tr>\n",
       "    <tr>\n",
       "      <th>1959-12-29</th>\n",
       "      <td>48</td>\n",
       "      <td>0.033246</td>\n",
       "      <td>37.240554</td>\n",
       "      <td>-0.000101</td>\n",
       "    </tr>\n",
       "    <tr>\n",
       "      <th>1959-12-30</th>\n",
       "      <td>55</td>\n",
       "      <td>0.033246</td>\n",
       "      <td>37.240554</td>\n",
       "      <td>-0.000101</td>\n",
       "    </tr>\n",
       "    <tr>\n",
       "      <th>1959-12-31</th>\n",
       "      <td>50</td>\n",
       "      <td>0.033246</td>\n",
       "      <td>37.240554</td>\n",
       "      <td>-0.000101</td>\n",
       "    </tr>\n",
       "  </tbody>\n",
       "</table>\n",
       "<p>229 rows × 4 columns</p>\n",
       "</div>"
      ],
      "text/plain": [
       "            Births         a          b         c\n",
       "Date                                             \n",
       "1959-02-05      50  0.033246  37.240554 -0.000101\n",
       "1959-01-02      32  0.033246  37.240554 -0.000101\n",
       "1959-01-03      30  0.033246  37.240554 -0.000101\n",
       "1959-01-04      31  0.033246  37.240554 -0.000101\n",
       "1959-01-08      43  0.033246  37.240554 -0.000101\n",
       "...            ...       ...        ...       ...\n",
       "1959-12-25      44  0.033246  37.240554 -0.000101\n",
       "1959-12-27      37  0.033246  37.240554 -0.000101\n",
       "1959-12-29      48  0.033246  37.240554 -0.000101\n",
       "1959-12-30      55  0.033246  37.240554 -0.000101\n",
       "1959-12-31      50  0.033246  37.240554 -0.000101\n",
       "\n",
       "[229 rows x 4 columns]"
      ]
     },
     "execution_count": 145,
     "metadata": {},
     "output_type": "execute_result"
    }
   ],
   "source": [
    "births"
   ]
  },
  {
   "cell_type": "code",
   "execution_count": 114,
   "id": "05c3d13e",
   "metadata": {},
   "outputs": [],
   "source": [
    "from statsmodels.formula.api import ols\n",
    "from statsmodels.stats.stattools import durbin_watson\n",
    "\n"
   ]
  },
  {
   "cell_type": "code",
   "execution_count": 146,
   "id": "c7f54a82",
   "metadata": {},
   "outputs": [
    {
     "name": "stdout",
     "output_type": "stream",
     "text": [
      "                            OLS Regression Results                            \n",
      "==============================================================================\n",
      "Dep. Variable:                 Births   R-squared:                      -0.000\n",
      "Model:                            OLS   Adj. R-squared:                 -0.000\n",
      "Method:                 Least Squares   F-statistic:                       nan\n",
      "Date:                Wed, 21 Jun 2023   Prob (F-statistic):                nan\n",
      "Time:                        01:19:47   Log-Likelihood:                -731.19\n",
      "No. Observations:                 229   AIC:                             1464.\n",
      "Df Residuals:                     228   BIC:                             1468.\n",
      "Df Model:                           0                                         \n",
      "Covariance Type:            nonrobust                                         \n",
      "==============================================================================\n",
      "                 coef    std err          t      P>|t|      [0.025      0.975]\n",
      "------------------------------------------------------------------------------\n",
      "Intercept      0.0296      0.000    105.105      0.000       0.029       0.030\n",
      "a              0.0010   9.35e-06    105.105      0.000       0.001       0.001\n",
      "b              1.1010      0.010    105.105      0.000       1.080       1.122\n",
      "c          -2.975e-06   2.83e-08   -105.105      0.000   -3.03e-06   -2.92e-06\n",
      "==============================================================================\n",
      "Omnibus:                        0.057   Durbin-Watson:                   1.219\n",
      "Prob(Omnibus):                  0.972   Jarque-Bera (JB):                0.043\n",
      "Skew:                           0.031   Prob(JB):                        0.979\n",
      "Kurtosis:                       2.973   Cond. No.                     4.14e+35\n",
      "==============================================================================\n",
      "\n",
      "Notes:\n",
      "[1] Standard Errors assume that the covariance matrix of the errors is correctly specified.\n",
      "[2] The smallest eigenvalue is 1.85e-66. This might indicate that there are\n",
      "strong multicollinearity problems or that the design matrix is singular.\n"
     ]
    }
   ],
   "source": [
    "#fit multiple linear regression model\n",
    "model = ols('Births ~ a + b + c', data=births).fit()\n",
    "\n",
    "#view model summary\n",
    "print(model.summary())"
   ]
  },
  {
   "cell_type": "code",
   "execution_count": 147,
   "id": "a306aa98",
   "metadata": {},
   "outputs": [
    {
     "data": {
      "text/plain": [
       "1.219085189429363"
      ]
     },
     "execution_count": 147,
     "metadata": {},
     "output_type": "execute_result"
    }
   ],
   "source": [
    "durbin_watson(model.resid)"
   ]
  },
  {
   "cell_type": "code",
   "execution_count": null,
   "id": "c5def208",
   "metadata": {},
   "outputs": [],
   "source": [
    "'''\n",
    "Автокорреляция должна попадать в промежуток 1.5 до 2.5 следовательно автокрреляции вызывают проблемы\n",
    "что было видно ещё на графике автокорреляций(на бесконечности они не попадали в синюю область)\n",
    "Если посчитать автокорреляции с лагом 12(по месяцам) всё сойдётся\n",
    "\n",
    "'''\n"
   ]
  },
  {
   "cell_type": "code",
   "execution_count": null,
   "id": "be16d8ad",
   "metadata": {},
   "outputs": [],
   "source": []
  },
  {
   "cell_type": "code",
   "execution_count": null,
   "id": "9d419261",
   "metadata": {},
   "outputs": [],
   "source": [
    "#Построим прогноз"
   ]
  },
  {
   "cell_type": "code",
   "execution_count": 153,
   "id": "6e387a7e",
   "metadata": {},
   "outputs": [
    {
     "data": {
      "text/plain": [
       "[50,\n",
       " 45,\n",
       " 44,\n",
       " 42,\n",
       " 40,\n",
       " 41,\n",
       " 41,\n",
       " 41,\n",
       " 42,\n",
       " 42,\n",
       " 42,\n",
       " 43,\n",
       " 40,\n",
       " 39,\n",
       " 40,\n",
       " 40,\n",
       " 40,\n",
       " 39,\n",
       " 40,\n",
       " 42,\n",
       " 44,\n",
       " 45,\n",
       " 45,\n",
       " 45,\n",
       " 45,\n",
       " 44,\n",
       " 42,\n",
       " 42,\n",
       " 43,\n",
       " 42,\n",
       " 40,\n",
       " 39,\n",
       " 40,\n",
       " 41,\n",
       " 41,\n",
       " 43,\n",
       " 42,\n",
       " 43,\n",
       " 44,\n",
       " 44,\n",
       " 44,\n",
       " 42,\n",
       " 42,\n",
       " 42,\n",
       " 41,\n",
       " 39,\n",
       " 37,\n",
       " 40,\n",
       " 41,\n",
       " 41,\n",
       " 43,\n",
       " 44,\n",
       " 44,\n",
       " 45,\n",
       " 45,\n",
       " 44,\n",
       " 45,\n",
       " 46,\n",
       " 47,\n",
       " 47,\n",
       " 46,\n",
       " 46,\n",
       " 48,\n",
       " 49,\n",
       " 50,\n",
       " 49,\n",
       " 48,\n",
       " 48,\n",
       " 46,\n",
       " 45,\n",
       " 44,\n",
       " 46,\n",
       " 46,\n",
       " 44,\n",
       " 42,\n",
       " 43,\n",
       " 43,\n",
       " 42,\n",
       " 42,\n",
       " 42,\n",
       " 44,\n",
       " 44,\n",
       " 44,\n",
       " 43,\n",
       " 42,\n",
       " 41,\n",
       " 42,\n",
       " 42,\n",
       " 41,\n",
       " 42,\n",
       " 42,\n",
       " 41,\n",
       " 42,\n",
       " 43,\n",
       " 43,\n",
       " 43,\n",
       " 42,\n",
       " 41,\n",
       " 42,\n",
       " 42,\n",
       " 42,\n",
       " 42,\n",
       " 41,\n",
       " 41,\n",
       " 40,\n",
       " 40,\n",
       " 41,\n",
       " 43,\n",
       " 43,\n",
       " 42,\n",
       " 41,\n",
       " 41,\n",
       " 42,\n",
       " 42,\n",
       " 43,\n",
       " 42,\n",
       " 39,\n",
       " 39,\n",
       " 39,\n",
       " 40]"
      ]
     },
     "execution_count": 153,
     "metadata": {},
     "output_type": "execute_result"
    }
   ],
   "source": [
    "alpha = 0.2\n",
    " \n",
    "# первое значение совпадает со значением временного ряда\n",
    "exp_smoothing = [births['Births'][0]]\n",
    " \n",
    "# в цикле for последовательно применяем формулу ко всем элементам ряда\n",
    "for i in range(1, len(births['Births'])):\n",
    "    exp_smoothing.append(alpha * births['Births'][i] + (1 - alpha) * exp_smoothing[i - 1])\n",
    " \n",
    "# выведем прогнозное значение для следующих 120 дней-го дня (1 января 1960 года)\n",
    "n = [0 for _ in range(120)]\n",
    "for i in range(120):\n",
    "    n[i] = int(exp_smoothing[-i])\n",
    "    \n"
   ]
  },
  {
   "cell_type": "code",
   "execution_count": 1,
   "id": "39e539a6",
   "metadata": {},
   "outputs": [
    {
     "data": {
      "text/plain": [
       "'\\nВсе значения ожидаемо колебаются около среднего(на самом деле хороший показатель по таком короткому промежутку для данной задачи)\\n\\n'"
      ]
     },
     "execution_count": 1,
     "metadata": {},
     "output_type": "execute_result"
    }
   ],
   "source": [
    "'''\n",
    "Все значения ожидаемо колебаются около среднего(на самом деле хороший показатель по таком короткому промежутку для данной задачи)\n",
    "\n",
    "'''"
   ]
  }
 ],
 "metadata": {
  "kernelspec": {
   "display_name": "Python 3 (ipykernel)",
   "language": "python",
   "name": "python3"
  },
  "language_info": {
   "codemirror_mode": {
    "name": "ipython",
    "version": 3
   },
   "file_extension": ".py",
   "mimetype": "text/x-python",
   "name": "python",
   "nbconvert_exporter": "python",
   "pygments_lexer": "ipython3",
   "version": "3.8.2"
  }
 },
 "nbformat": 4,
 "nbformat_minor": 5
}
